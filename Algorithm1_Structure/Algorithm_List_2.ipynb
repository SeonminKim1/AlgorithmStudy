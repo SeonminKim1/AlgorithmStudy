{
 "cells": [
  {
   "cell_type": "code",
   "execution_count": 1,
   "metadata": {},
   "outputs": [],
   "source": [
    "# 링크드 리스트의 장점은 배열은 미리 데이터 공간을 할당해야함\n",
    "# 단점 : 연결을 위한 별도의 데이터 공간 필요하므로 효율이 막 높다고는 할 수 없음.\n",
    "# 중간데이터 삭제시 앞뒤 데이터 연결 재구성해야 하는 부가적 잡업 필요\n",
    "# 연결 정보를 찾는 시간이 필요해 접근 속도가 느림"
   ]
  },
  {
   "cell_type": "code",
   "execution_count": 11,
   "metadata": {},
   "outputs": [
    {
     "name": "stdout",
     "output_type": "stream",
     "text": [
      "1\n",
      "2\n",
      "3\n",
      "4\n",
      "5\n",
      "6\n",
      "7\n",
      "8\n",
      "9\n"
     ]
    }
   ],
   "source": [
    "# 정석\n",
    "# (1) Node 클래스 만들고 노드 연결 함수 구현\n",
    "class Node:\n",
    "    def __init__(self, data, next=None):\n",
    "        self.data = data\n",
    "        self.next = next\n",
    "\n",
    "def add(data):\n",
    "    node = head # 시작지점정하고\n",
    "    while node.next: # 한개씩 접근\n",
    "        node = node.next # 현재 node를 다음 node와 연결\n",
    "    node.next = Node(data) \n",
    "    \n",
    "# (2) node 생성 및 연결\n",
    "node1 = Node(1)\n",
    "node2 = Node(2)\n",
    "node1.next = node2\n",
    "head = node1\n",
    "\n",
    "# (3) node 10개 연결\n",
    "for index in range(3, 10):\n",
    "    add(index)\n",
    "    \n",
    "# (4) 현재 node 출력\n",
    "node = head\n",
    "while node.next:\n",
    "    print(node.data)\n",
    "    node = node.next\n",
    "print (node.data)\n"
   ]
  },
  {
   "cell_type": "code",
   "execution_count": 12,
   "metadata": {},
   "outputs": [
    {
     "name": "stdout",
     "output_type": "stream",
     "text": [
      "1\n",
      "2\n",
      "3\n",
      "3.5\n",
      "4\n",
      "5\n",
      "6\n",
      "7\n",
      "8\n",
      "9\n"
     ]
    }
   ],
   "source": [
    "# 노드 중간에 추가하기\n",
    "node3_5 = Node(3.5)\n",
    "\n",
    "node = head\n",
    "search = True\n",
    "\n",
    "while search:\n",
    "    if node.data == 3:\n",
    "        search = False\n",
    "        tmp = node.next\n",
    "        node.next = node3_5\n",
    "        node3_5.next = tmp\n",
    "    else:\n",
    "        node = node.next\n",
    "\n",
    "\n",
    "# (4) 현재 node 출력\n",
    "node = head\n",
    "while node.next:\n",
    "    print(node.data)\n",
    "    node = node.next\n",
    "print (node.data)"
   ]
  },
  {
   "cell_type": "code",
   "execution_count": 15,
   "metadata": {},
   "outputs": [
    {
     "name": "stdout",
     "output_type": "stream",
     "text": [
      "0\n",
      "1\n",
      "2\n",
      "3\n",
      "4\n",
      "5\n",
      "6\n",
      "7\n",
      "8\n",
      "9\n"
     ]
    }
   ],
   "source": [
    "# 파이썬 객체지향 프로그래밍으로 링크드 리스트 구현\n",
    "# Node클래스(노드 생성) / class NodeMgmt (노드 관리) def add, def desc\n",
    "\n",
    "class Node:\n",
    "    def __init__(self, data, next=None):\n",
    "        self.data = data\n",
    "        self.next=next\n",
    "        \n",
    "class NodeMgmt:\n",
    "    def __init__(self, data): # 생성자 실행시 첫 노드 만들어짐\n",
    "        self.head = Node(data)\n",
    "    \n",
    "    # 노드 추가하기\n",
    "    def add(self, data):\n",
    "        # 혹여나 head가 비어있으면 새로 하나 만들어줌\n",
    "        if self.head=='': \n",
    "            self.head=Node(data)\n",
    "        else :\n",
    "            node = self.head\n",
    "            while node.next:\n",
    "                node = node.next\n",
    "            node.next=Node(data)\n",
    "            \n",
    "    # 현재 만들어 진 리스트 보기\n",
    "    def desc(self):\n",
    "        node = self.head\n",
    "        while node:\n",
    "            print(node.data)\n",
    "            node = node.next\n",
    "\n",
    "            \n",
    "linkedlist1 = NodeMgmt(0)\n",
    "\n",
    "for data in range(1, 10):\n",
    "    linkedlist1.add(data)\n",
    "\n",
    "linkedlist1.desc()\n"
   ]
  }
 ],
 "metadata": {
  "kernelspec": {
   "display_name": "Python 3",
   "language": "python",
   "name": "python3"
  },
  "language_info": {
   "codemirror_mode": {
    "name": "ipython",
    "version": 3
   },
   "file_extension": ".py",
   "mimetype": "text/x-python",
   "name": "python",
   "nbconvert_exporter": "python",
   "pygments_lexer": "ipython3",
   "version": "3.7.5"
  }
 },
 "nbformat": 4,
 "nbformat_minor": 2
}
 
