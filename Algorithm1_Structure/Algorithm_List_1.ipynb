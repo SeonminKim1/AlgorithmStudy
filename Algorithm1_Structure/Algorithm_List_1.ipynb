{
 "cells": [
  {
   "cell_type": "code",
   "execution_count": 1,
   "metadata": {},
   "outputs": [],
   "source": [
    "# 링크드 리스트\n",
    "# 연결 리스트라고도 하며 배열은 순차적으로 연결된 공간에 데이터를 나열하는 데이터 구조인 반면\n",
    "# 링크드 리스트는 떨어진 곳에 존재하는 데이터를 화살표로 연결해서 관리하는 데이터 구조\n",
    "# 노드(Node)와 포인터(Pointer) 노드는 데이터 저장 단위, 포인터는 각 노드 안에서 다음이나 이전의 노드와의 연결 정보를 가지고 있는 공간\n",
    "# 배열의 고정된 메모리를 사용해야 한다는 한계를 극복"
   ]
  },
  {
   "cell_type": "code",
   "execution_count": 3,
   "metadata": {},
   "outputs": [],
   "source": [
    "# (1) Node 클래스 만들고 노드 연결 함수 구현\n",
    "class Node:\n",
    "    def __init__(self, data, next=None):\n",
    "        self.data = data\n",
    "        self.next = next"
   ]
  },
  {
   "cell_type": "code",
   "execution_count": 41,
   "metadata": {},
   "outputs": [
    {
     "name": "stdout",
     "output_type": "stream",
     "text": [
      "현재 연결리스트 상태\n",
      "1 <__main__.Node object at 0x0000020DCA2BB048>\n",
      "2 <__main__.Node object at 0x0000020DCA1CC908>\n",
      "3 None\n"
     ]
    }
   ],
   "source": [
    "# 노드 3개 만들고 서로 연결하기\n",
    "node1 = Node(1)\n",
    "node2 = Node(2)\n",
    "node3 = Node(3)\n",
    "node1.next = node2\n",
    "node2.next = node3\n",
    "head = node1\n",
    "\n",
    "print('현재 연결리스트 상태')\n",
    "while head:\n",
    "    print(head.data, head.next)\n",
    "    head = head.next\n",
    "head = node1"
   ]
  },
  {
   "cell_type": "code",
   "execution_count": 43,
   "metadata": {},
   "outputs": [
    {
     "name": "stdout",
     "output_type": "stream",
     "text": [
      "9 노드 에 4 노드 연결 완료\n",
      "4 노드 에 5 노드 연결 완료\n",
      "5 노드 에 6 노드 연결 완료\n",
      "6 노드 에 7 노드 연결 완료\n",
      "7 노드 에 8 노드 연결 완료\n",
      "8 노드 에 9 노드 연결 완료\n",
      "현재 연결리스트 상태\n",
      "1 <__main__.Node object at 0x0000020DCA2BB048>\n",
      "2 <__main__.Node object at 0x0000020DCA1CC908>\n",
      "3 <__main__.Node object at 0x0000020DCA2BBBC8>\n",
      "4 <__main__.Node object at 0x0000020DCA2BBD08>\n",
      "5 <__main__.Node object at 0x0000020DCA2BBDC8>\n",
      "6 <__main__.Node object at 0x0000020DCA2BBE88>\n",
      "7 <__main__.Node object at 0x0000020DCA2BBF48>\n",
      "8 <__main__.Node object at 0x0000020DCA2BC048>\n",
      "9 <__main__.Node object at 0x0000020DCA2BC308>\n",
      "4 <__main__.Node object at 0x0000020DCA2BC488>\n",
      "5 <__main__.Node object at 0x0000020DCA2BC548>\n",
      "6 <__main__.Node object at 0x0000020DCA2BC608>\n",
      "7 <__main__.Node object at 0x0000020DCA2BC6C8>\n",
      "8 <__main__.Node object at 0x0000020DCA2BC788>\n",
      "9 None\n"
     ]
    }
   ],
   "source": [
    "# 연결리스트 노드 추가 node_add 함수\n",
    "def node_add(node, add_node):\n",
    "    while True:\n",
    "        #print(node.data, node.next)\n",
    "        node = node.next # 다음 노드 연결\n",
    "        #print('!',node.data, node.next)\n",
    "        if node.next == None:\n",
    "            node.next = add_node\n",
    "            print(node.data,'노드 에', add_node.data, '노드 연결 완료')\n",
    "            break\n",
    "            \n",
    "# node 추가\n",
    "for i in range(4, 10):\n",
    "    a_node = Node(i)\n",
    "    node_add(head, a_node)          \n",
    "\n",
    "print('현재 연결리스트 상태')\n",
    "\n",
    "while head:\n",
    "    print(head.data, head.next)\n",
    "    head = head.next\n",
    "head = node1"
   ]
  },
  {
   "cell_type": "code",
   "execution_count": 44,
   "metadata": {},
   "outputs": [
    {
     "name": "stdout",
     "output_type": "stream",
     "text": [
      "1\n",
      "2\n",
      "3\n",
      "4\n",
      "5\n",
      "6\n",
      "7\n",
      "8\n",
      "9\n"
     ]
    }
   ],
   "source": [
    "# 정석\n",
    "# (1) Node 클래스 만들고 노드 연결 함수 구현\n",
    "class Node:\n",
    "    def __init__(self, data, next=None):\n",
    "        self.data = data\n",
    "        self.next = next\n",
    "\n",
    "def add(data):\n",
    "    node = head\n",
    "    while node.next:\n",
    "        node = node.next\n",
    "    node.next = Node(data) \n",
    "    \n",
    "# (2) node 생성 및 연결\n",
    "node1 = Node(1)\n",
    "node2 = Node(2)\n",
    "node1.next = node2\n",
    "head = node1\n",
    "\n",
    "# (3) node 10개 반복 연결\n",
    "for index in range(2, 10):\n",
    "    add(index)\n",
    "    \n",
    "# (4) 현재 node 출력\n",
    "node = head\n",
    "while node.next:\n",
    "    print(node.data)\n",
    "    node = node.next\n",
    "print (node.data)"
   ]
  }
 ],
 "metadata": {
  "kernelspec": {
   "display_name": "Python 3",
   "language": "python",
   "name": "python3"
  },
  "language_info": {
   "codemirror_mode": {
    "name": "ipython",
    "version": 3
   },
   "file_extension": ".py",
   "mimetype": "text/x-python",
   "name": "python",
   "nbconvert_exporter": "python",
   "pygments_lexer": "ipython3",
   "version": "3.7.5"
  }
 },
 "nbformat": 4,
 "nbformat_minor": 2
}
 
