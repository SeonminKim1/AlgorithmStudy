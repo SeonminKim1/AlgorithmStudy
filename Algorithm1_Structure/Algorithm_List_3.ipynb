{
 "cells": [
  {
   "cell_type": "code",
   "execution_count": 5,
   "metadata": {},
   "outputs": [
    {
     "name": "stdout",
     "output_type": "stream",
     "text": [
      "0 1 2 3 4 5 6 7 8 9 \n",
      "\n",
      "0 1 2 3 4 6 7 8 9 \n",
      "\n"
     ]
    }
   ],
   "source": [
    "# 파이썬 객체지향 프로그래밍으로 링크드 리스트 구현\n",
    "# Node클래스(노드 생성) / class NodeMgmt (노드 관리) def add, def desc, def delete\n",
    "\n",
    "class Node:\n",
    "    def __init__(self, data, next=None):\n",
    "        self.data = data\n",
    "        self.next=next\n",
    "        \n",
    "class NodeMgmt:\n",
    "    def __init__(self, data): # 생성자 실행시 첫 노드 만들어짐\n",
    "        self.head = Node(data)\n",
    "    \n",
    "    # 노드 추가하기\n",
    "    def add(self, data):\n",
    "        # 혹여나 head가 비어있으면 새로 하나 만들어줌\n",
    "        if self.head=='': \n",
    "            self.head=Node(data)\n",
    "        else :\n",
    "            node = self.head\n",
    "            while node.next:\n",
    "                node = node.next\n",
    "            node.next=Node(data)\n",
    "            \n",
    "    # 현재 만들어 진 리스트 보기\n",
    "    def desc(self):\n",
    "        node = self.head\n",
    "        while node:\n",
    "            print(node.data, end=' ')\n",
    "            node = node.next\n",
    "        print('\\n')\n",
    "        \n",
    "    # 삭제 총 3가지 경우 (1. head삭제 / 2.마지막노드 삭제 / 3.중간노드삭제 )\n",
    "    def delete(self, data):\n",
    "        if self.head=='':\n",
    "            print('해당 값을 가진 노드가 없습니다')\n",
    "            return\n",
    "        \n",
    "        # head 변경\n",
    "        if self.head.data == data:\n",
    "            temp = self.head.next\n",
    "            del self.head.data\n",
    "            self.head = temp\n",
    "            \n",
    "        # 중간노드 삭제 & 마지막노트 삭제\n",
    "        else: \n",
    "            node = self.head\n",
    "            while node.next:\n",
    "                if node.next.data == data:\n",
    "                    temp = node.next\n",
    "                    node.next = node.next.next\n",
    "                    del temp\n",
    "                    return\n",
    "                else:\n",
    "                    node = node.next\n",
    "                    \n",
    "            \n",
    "linkedlist1 = NodeMgmt(0)\n",
    "\n",
    "for data in range(1, 10):\n",
    "    linkedlist1.add(data)\n",
    "\n",
    "linkedlist1.desc()\n",
    "linkedlist1.delete(5)\n",
    "linkedlist1.desc()"
   ]
  }
 ],
 "metadata": {
  "kernelspec": {
   "display_name": "Python 3",
   "language": "python",
   "name": "python3"
  },
  "language_info": {
   "codemirror_mode": {
    "name": "ipython",
    "version": 3
   },
   "file_extension": ".py",
   "mimetype": "text/x-python",
   "name": "python",
   "nbconvert_exporter": "python",
   "pygments_lexer": "ipython3",
   "version": "3.7.5"
  }
 },
 "nbformat": 4,
 "nbformat_minor": 2
}
 
