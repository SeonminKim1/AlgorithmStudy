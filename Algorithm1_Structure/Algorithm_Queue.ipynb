{
 "cells": [
  {
   "cell_type": "code",
   "execution_count": 9,
   "metadata": {},
   "outputs": [],
   "source": [
    "###### Queue\n",
    "\n",
    "# 1. 큐 구조\n",
    "# 가장 먼저 넣은 데이터를 가장 먼저 꺼낼 수 있는 구조\n",
    "# 음식점에서 가장 먼저 줄을 선 사람이 젱ㄹ 먼저 음식점에 입장하는 것과 동일\n",
    "# FIFO (First in First out) / \n",
    "\n",
    "# 2. 알아둘 용어\n",
    "# Enqueue : 큐에 데이터를 넣는 기능\n",
    "# Dequeue : 큐에서 데이터를 꺼내는 기능\n"
   ]
  },
  {
   "cell_type": "code",
   "execution_count": 26,
   "metadata": {},
   "outputs": [
    {
     "name": "stdout",
     "output_type": "stream",
     "text": [
      "<queue.Queue object at 0x000002404421E988>\n",
      "FIFO로 뽑아낸 get 값 abc\n",
      "size: 1\n"
     ]
    }
   ],
   "source": [
    "# 3, 파이썬 queue 라이브러리 활용해서 큐 자료 구조 사용하기\n",
    "# queue 라이브러리에 다양한 큐 구조로 Queue(), LIFOQueue(), PriortyQueue()\n",
    "import queue\n",
    "\n",
    "data_queue = queue.Queue()\n",
    "print(data_queue)\n",
    "\n",
    "data_queue.put('abc')\n",
    "data_queue.put(2)\n",
    "\n",
    "s = data_queue.get() # index를 넣지 않음.\n",
    "print('FIFO로 뽑아낸 get 값', s)\n",
    "\n",
    "size = data_queue.qsize() # queue size\n",
    "print('size:', size)"
   ]
  },
  {
   "cell_type": "code",
   "execution_count": 28,
   "metadata": {},
   "outputs": [
    {
     "name": "stdout",
     "output_type": "stream",
     "text": [
      "LIFO로 뽑아낸 get 값 4\n",
      "size: 2\n"
     ]
    }
   ],
   "source": [
    "# LifoQueue()로 큐 만들기 LIFO (Last in First Out)\n",
    "import queue\n",
    "data_Lqueue = queue.LifoQueue()\n",
    "data_Lqueue.put('coding2')\n",
    "data_Lqueue.put(3)\n",
    "data_Lqueue.put(4)\n",
    "\n",
    "s = data_Lqueue.get() # index를 넣지 않음.\n",
    "print('LIFO로 뽑아낸 get 값', s)\n",
    "\n",
    "size = data_Lqueue.qsize() # queue size\n",
    "print('size:', size)"
   ]
  },
  {
   "cell_type": "code",
   "execution_count": 32,
   "metadata": {},
   "outputs": [
    {
     "name": "stdout",
     "output_type": "stream",
     "text": [
      "Priority Queue로 뽑아 낸 값 (1, 'b')\n"
     ]
    }
   ],
   "source": [
    "# 우선순위를 같이 넣어주는 Queue\n",
    "# Tuple로 집어넣음.\n",
    "import queue\n",
    "\n",
    "data_Pqueue = queue.PriorityQueue()\n",
    "data_Pqueue.put((3, 'a'))\n",
    "data_Pqueue.put((1, 'b'))\n",
    "data_Pqueue.put((5, 'c'))\n",
    "\n",
    "s = data_Pqueue.get()\n",
    "print('Priority Queue로 뽑아 낸 값', s)"
   ]
  },
  {
   "cell_type": "code",
   "execution_count": 33,
   "metadata": {},
   "outputs": [],
   "source": [
    "# Queue는 어디에 많이 쓰이는가?\n",
    "# 멀티 태스킹을 위한 프로세스 스케쥴링 방식을 구현하기 위해 많이 사용된다.\n",
    "# 큐의 경우에는 특별한 장단점 보다는 스케쥴링 방식을 위해 쓰인다는게 중요)"
   ]
  },
  {
   "cell_type": "code",
   "execution_count": 35,
   "metadata": {},
   "outputs": [
    {
     "name": "stdout",
     "output_type": "stream",
     "text": [
      "[3, 9, 4, 2, 8]\n",
      "[3, 9, 4, 2, 8, '17']\n",
      "3\n"
     ]
    }
   ],
   "source": [
    "# enqueue, dequeue 기능 구현해보기\n",
    "\n",
    "q_list = [3,9,4,2,8]\n",
    "def enqueue(data):\n",
    "    q_list.append(data)\n",
    "    \n",
    "def dequeue():\n",
    "    data = q_list[0]\n",
    "    del q_list[0]\n",
    "    return data\n",
    "\n",
    "print(q_list)\n",
    "enqueue('17')\n",
    "print(q_list)\n",
    "st = dequeue()\n",
    "print(st)\n",
    "\n",
    "# 응용해서 다른 방식의 queue도 만들수 있을 것\n",
    "    \n",
    "    "
   ]
  }
 ],
 "metadata": {
  "kernelspec": {
   "display_name": "Python 3",
   "language": "python",
   "name": "python3"
  },
  "language_info": {
   "codemirror_mode": {
    "name": "ipython",
    "version": 3
   },
   "file_extension": ".py",
   "mimetype": "text/x-python",
   "name": "python",
   "nbconvert_exporter": "python",
   "pygments_lexer": "ipython3",
   "version": "3.7.5"
  }
 },
 "nbformat": 4,
 "nbformat_minor": 2
}
 
