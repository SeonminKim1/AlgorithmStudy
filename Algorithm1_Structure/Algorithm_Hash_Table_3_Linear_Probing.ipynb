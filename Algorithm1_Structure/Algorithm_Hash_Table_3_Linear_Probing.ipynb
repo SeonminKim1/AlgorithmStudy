{
 "cells": [
  {
   "cell_type": "code",
   "execution_count": null,
   "metadata": {},
   "outputs": [],
   "source": [
    "\n",
    "# 충돌 해결 알고리즘을위해 크게 두가지 가 있음.\n",
    "# 1. 체인 기법 : 추가로 같은 값에 링크드 리스트로 만들어서 공간을 활용하는 기법\n",
    "# 1. 개방 해슁 또는 Open Hashing 기법 중 하나: 해쉬 테이블 저장공간 외의 공간을 활용하는 기법\n",
    "# 1. 충돌이 일어나면, 링크드 리스트라는 자료 구조를 사용해서, 링크드 리스트로 데이터를 추가로 뒤에 연결시켜서 저장하는 기법\n",
    "# 2. Linear Probing 기법 해시 테이블 외에 저장된 공간 말고 나머지 다른공간에 저장\n",
    "# 2. 폐쇄 해슁 또는 Close Hashing 기법 중 하나: 해쉬 테이블 저장공간 안에서 충돌 문제를 해결하는 기법\n",
    "# 2. 충돌이 일어나면, 해당 hash address의 다음 address부터 맨 처음 나오는 빈공간에 저장하는 기법\n",
    "# 2. 저장공간 활용도를 높이기 위한 기법"
   ]
  },
  {
   "cell_type": "code",
   "execution_count": 1,
   "metadata": {},
   "outputs": [],
   "source": [
    "hash_table = list([0 for i in range(8)])\n",
    "\n",
    "def get_key(data):\n",
    "    return hash(data)\n",
    "\n",
    "def hash_function(key):\n",
    "    return key % 8\n",
    "\n",
    "def save_data(data, value):\n",
    "    index_key = get_key(data)\n",
    "    hash_address = hash_function(index_key)\n",
    "    if hash_table[hash_address] != 0:\n",
    "        for index in range(hash_address, len(hash_table)):\n",
    "            if hash_table[index] == 0:\n",
    "                hash_table[index] = [index_key, value]\n",
    "                return\n",
    "            # 데이터가 같은 경우 그냥 값만 수정하는 것임\n",
    "            elif hash_table[index][0] == index_key:\n",
    "                hash_table[index][1] = value\n",
    "                return\n",
    "    else:\n",
    "        hash_table[hash_address] = [index_key, value]\n",
    "\n",
    "def read_data(data):\n",
    "    index_key = get_key(data)\n",
    "    hash_address = hash_function(index_key)\n",
    "    \n",
    "    if hash_table[hash_address] != 0:\n",
    "        for index in range(hash_address, len(hash_table)):\n",
    "            if hash_table[index] == 0:\n",
    "                return None\n",
    "            elif hash_table[index][0] == index_key:\n",
    "                return hash_table[index][1]\n",
    "    else:\n",
    "        return None\n"
   ]
  },
  {
   "cell_type": "code",
   "execution_count": 2,
   "metadata": {},
   "outputs": [
    {
     "name": "stdout",
     "output_type": "stream",
     "text": [
      "4\n",
      "4\n",
      "4\n"
     ]
    }
   ],
   "source": [
    "print (hash('dk') % 8)\n",
    "print (hash('da') % 8)\n",
    "print (hash('dc') % 8)"
   ]
  },
  {
   "cell_type": "code",
   "execution_count": null,
   "metadata": {},
   "outputs": [],
   "source": [
    "save_data('dk', '01200123123')\n",
    "save_data('da', '3333333333')\n",
    "read_data('dc')"
   ]
  }
 ],
 "metadata": {
  "kernelspec": {
   "display_name": "Python 3",
   "language": "python",
   "name": "python3"
  },
  "language_info": {
   "codemirror_mode": {
    "name": "ipython",
    "version": 3
   },
   "file_extension": ".py",
   "mimetype": "text/x-python",
   "name": "python",
   "nbconvert_exporter": "python",
   "pygments_lexer": "ipython3",
   "version": "3.7.5"
  }
 },
 "nbformat": 4,
 "nbformat_minor": 2
}
 
