{
 "cells": [
  {
   "cell_type": "markdown",
   "metadata": {},
   "source": [
    "### 1. 힙 (Heap) 이란?\n",
    "- 힙: 데이터에서 최대값과 최소값을 빠르게 찾기 위해 고안된 완전 이진 트리(Complete Binary Tree)\n",
    "  - 완전 이진 트리: 노드를 삽입할 때 최하단 왼쪽 노드부터 차례대로 삽입하는 트리\n",
    "\n",
    "<img src=\"https://www.fun-coding.org/00_Images/completebinarytree.png\" width=300>\n",
    "\n",
    "- 힙을 사용하는 이유\n",
    "  - 배열에 데이터를 넣고, 최대값과 최소값을 찾으려면 O(n) 이 걸림\n",
    "  - 이에 반해, 힙에 데이터를 넣고, 최대값과 최소값을 찾으면, $ O(log n) $ 이 걸림\n",
    "  - 우선순위 큐와 같이 최대값 또는 최소값을 빠르게 찾아야 하는 자료구조 및 알고리즘 구현 등에 활용됨"
   ]
  },
  {
   "cell_type": "markdown",
   "metadata": {},
   "source": [
    "### 최댓값과 최솟값을 빠르게 찾기 위해서 고안된 이진 트리 (Complete Binary Tree)\n",
    "- 배열에 데이터를 넣고, 최댓값과 최솟값을 찾으려는 O(n)이 걸림\n",
    "- 이에 반해 힙에 데이터를 넣고 최댓값과 최솟값을 찾으면 O(log n)이 걸림\n",
    "- 우선순위 큐와 같이 최댓값 또는 최솟값을 빠르게 찾아야 하는 자료구조 및 알고리즘 구현 등에 활용됨."
   ]
  },
  {
   "cell_type": "markdown",
   "metadata": {},
   "source": [
    "### 2. Heap의 구조\n",
    "- 힙은 최댓값을 구하기 위한 구조 (최대 힙, Max Heap)와 최솟값을 구하기 위한 구조(최소 힙, Min Heap)로 분류 할 수 있음\n",
    "- 조건 1. 최대 힙의 경우 자식노드보다 부모노드 값이 크거나 같다.\n",
    "- 조건 2. 완전 이진트리란 무조건 데이터 2개를 가지고 있고 채워지는건 왼쪽 자식부터 채운다.\n",
    "- 힙과 이진 탐색 트리의 공통점과 차이점\n",
    "\n",
    "- 공통점 : 모두 이진 트리이다.\n",
    "- 차이점1 : 힙은 각 노드의 값이 자식 노드보다 크거나 같음(Max Heep의 경우)\n",
    "- 차이점2 : 이진 탐색 트리는 왼쪽 자식 노드의 값이 가장 작고, 부모노드, 오른쪽 자식 노드 값이 가장 크다.\n",
    "- 차이점2 : 힙은 부모노드 값이 가장 크고, 자식 노드중에서는 상관없다.\n",
    "- 즉 힙은 부모가 가장 크니까 최대/최솟값 검색을 위한 구조로 목적을 이해하고\n",
    "- 원하는 값을 찾는 이진 탐색 트리는 탐색을 위한 구조로 이해하면 됨."
   ]
  },
  {
   "cell_type": "markdown",
   "metadata": {},
   "source": [
    "<img src=\"https://www.fun-coding.org/00_Images/completebinarytree_bst.png\" width=\"800\" />"
   ]
  },
  {
   "cell_type": "code",
   "execution_count": null,
   "metadata": {},
   "outputs": [],
   "source": [
    "# 3. 힙의 동작\n",
    "# 데이터를 힙 구조에 삽입, 삭제하는 과정"
   ]
  },
  {
   "cell_type": "markdown",
   "metadata": {},
   "source": [
    "### 힙에 데이터 삽입하기 - 삽입할 데이터가 힙의 데이터보다 클 경우 (Max Heap 의 예)\n",
    "- 먼저 삽입된 데이터는 완전 이진 트리 구조에 맞추어, 최하단부 왼쪽 노드부터 채워짐\n",
    "- 채워진 노드 위치에서, 부모 노드보다 값이 클 경우, 부모 노드와 위치를 바꿔주는 작업을 반복함 (swap)\n",
    "<img src=\"https://www.fun-coding.org/00_Images/heap_insert.png\">"
   ]
  },
  {
   "cell_type": "markdown",
   "metadata": {},
   "source": [
    "### 힙의 데이터 삭제하기 (Max Heap 의 예)\n",
    "- 보통 삭제는 항상 최상단 노드 (root 노드)를 삭제하는 것이 일반적임\n",
    "- 힙의 용도는 최대값 또는 최소값을 root 노드에 놓아서, 최대값과 최소값을 바로 꺼내 쓸 수 있도록 하는 것임\n",
    "- 상단의 데이터 삭제시, 가장 최하단부 왼쪽에 위치한 노드 (가장 마지막에 추가한 노드) 를 root 노드로 이동\n",
    "- root 노드의 값이 child node 보다 작을 경우, root 노드의 child node 중 가장 큰 값을 가진 노드와 root 노드 위치를 바꿔주는 작업을 반복함 (swap)\n",
    "\n",
    "<img src=\"https://www.fun-coding.org/00_Images/heap_remove.png\">"
   ]
  },
  {
   "cell_type": "markdown",
   "metadata": {},
   "source": [
    "### 힙 구현\n",
    "- 힙은 일반적으로 배열로 가능 (완전 이진트리이기 때문에)\n",
    "- 배열은 인덱스가 0번부터 시작하지만, 힙 구현의 편의를 위해 root노드 인덱스 번호를 1로 지정\n",
    "- 부모노드 인덱스 번호 = 자식 노드 인덱스번호 // 2  -> 몫으로 구할 수 있음\n",
    "- 왼쪽 자식 노드 인덱스 번호 = 부모노드 인덱스 번호 * 2\n",
    "- 오른쪽 자식 노드 인덱스 번호 = 부모 노드 인덱스 번호 * 2 + 1"
   ]
  },
  {
   "cell_type": "code",
   "execution_count": 33,
   "metadata": {},
   "outputs": [],
   "source": [
    "# 힙에 데이터 삽입 구현 (Max Heap 예)\n",
    "class Heap:\n",
    "    def __init__(self, data):\n",
    "        self.heap_array = list()\n",
    "        self.heap_array.append(None) # 힙 구현의 편의 성을 위한 1번 배열부터 시작\n",
    "        self.heap_array.append(data)\n",
    "    \n",
    "    # 바꿔야 되는지 안바꿔야되는지 체크해주는 함수\n",
    "    # move_up은 데이터를 바꿔야될지 아닐지 판단만 해주고 실제 바꾸는건 while문 안에서\n",
    "    def move_up(self, inserted_idx):\n",
    "        if inserted_idx <= 1:\n",
    "            return False\n",
    "        \n",
    "        # 만약에 자식 값이 부모보다 크면\n",
    "        parent_idx = inserted_idx // 2\n",
    "        if self.heap_array[inserted_idx] > self.heap_array[parent_idx]:\n",
    "            return True\n",
    "        \n",
    "        # 만약 자식 값이 부모보다 작으면\n",
    "        else:\n",
    "            return False\n",
    "        \n",
    "    def insert(self, data):\n",
    "        # node가 아무것도 없으면\n",
    "        if len(self.heap_array) == 0 :\n",
    "            self.heap_array.append(None)\n",
    "            self.heap_array.append(data) # append로만 구현이 가능한 이유. 배열이 니까\n",
    "            return True\n",
    "        \n",
    "        # node가 있으면 그냥 뒤에 추가\n",
    "        self.heap_array.append(data)\n",
    "        inserted_idx = len(self.heap_array) -1 # 삽입된 노드의 index번호는 배열 크기 -1\n",
    "        \n",
    "        # move up 함수는 두 값이 바꿔야 하는지 아닌지를 나타냄.\n",
    "        while self.move_up(inserted_idx):\n",
    "            parent_idx = inserted_idx // 2 # 부모노드 index알아내기\n",
    "            # parent node값과 자식노드 값 바꿈.(swap 과정)\n",
    "            self.heap_array[inserted_idx], self.heap_array[parent_idx] \\\n",
    "            = self.heap_array[parent_idx], self.heap_array[inserted_idx]\n",
    "            inserted_idx = parent_idx\n",
    "        return True\n",
    "    \n",
    "    # 바꿔야 되는지 안바꿔도 되는지 체크해주는 함수\n",
    "    def move_down(self, popped_idx):\n",
    "        # 자기 인덱스 번호 *2 => 오른쪽 자식 인덱스\n",
    "        left_child_popped_idx = popped_idx * 2\n",
    "        right_child_popped_idx = popped_idx * 2 + 1\n",
    "        \n",
    "        # case1 왼쪽 자식노드가 없으면 자기 자신에서 끝난 것\n",
    "        if left_child_popped_idx >= len(self.heap_array): # 최대 길이가 인덱스보다 작음\n",
    "            return False\n",
    "        # case2 왼쪽 노드 있음 오른쪽노드 없음 -> 왼쪽노드 와 비교하여 바꿔줄지 안바꿔 줄지 체크\n",
    "        elif right_child_popped_idx >= len(self.heap_array):\n",
    "            if self.heap_array[popped_idx] < self.heap_array[left_child_popped_idx]: # 자식값이 더 크면 첸지\n",
    "                return True\n",
    "            else: # 자식값이 더 크지 않음 안바꿈 여기서 끝.\n",
    "                return False\n",
    "        \n",
    "        # case3 양쪽 노드 있음 -> 왼쪽, 오른쪽 두 자식을 비교하여 먼저 큰 것을 가져옴.\n",
    "        else:\n",
    "            # 자식노드끼리 비교해봄. left가 더 크다\n",
    "            if self.heap_array[left_child_popped_idx] > self.heap_array[right_child_popped_idx]:\n",
    "                # 왼쪽과 부모를 비교해서 왼쪽이 더 크면 첸지\n",
    "                if self.heap_array[popped_idx] < self.heap_array[left_child_popped_idx]:\n",
    "                    return True\n",
    "                # 왼쪽과 부모를 비교해서 부모가 더 크면 안바꿈.\n",
    "                else:\n",
    "                    return False\n",
    "            # 자식노드끼리 비교해봄. right가 더 크다.\n",
    "            else:\n",
    "                # 오른쪽과 부모를 비교해서 오른쪽이 더 크면 첸지\n",
    "                if self.heap_array[popped_idx] < self.heap_array[right_child_popped_idx]:\n",
    "                    return True\n",
    "                # 왼쪽과 부모를 비교해서 부모가 더 크면 안바꿈\n",
    "                else:\n",
    "                    return False\n",
    "                \n",
    "    def pop(self):\n",
    "        if len(self.heap_array)==None:\n",
    "            return False\n",
    "        \n",
    "        returned_data = self.heap_array[1]\n",
    "        self.heap_array[1] = self.heap_array[-1]\n",
    "        del self.heap_array[-1]\n",
    "        popped_idx=1\n",
    "        \n",
    "        # move_down은 데이터를 바꿔야될지 아닐지 판단만 해주고 실제 바꾸는건 while문 안에서\n",
    "        while self.move_down(popped_idx):\n",
    "            # 자기 인덱스 번호 *2 => 오른쪽 자식 인덱스\n",
    "            left_child_popped_idx = popped_idx * 2\n",
    "            right_child_popped_idx = popped_idx * 2 + 1\n",
    "\n",
    "            # case1 왼쪽 자식노드가 없으면 자기 자신에서 끝난 것\n",
    "            # 자기자신에서 끝난것이니 데이터 바꾸기 없음.\n",
    "            \n",
    "            # case2 왼쪽 노드 있음 오른쪽노드 없음 -> 왼쪽노드 와 비교하여 바꿔줄지 안바꿔 줄지 체크\n",
    "            if right_child_popped_idx >= len(self.heap_array):\n",
    "                if self.heap_array[popped_idx] < self.heap_array[left_child_popped_idx]: # 자식값이 더 크면 첸지\n",
    "                    # swap\n",
    "                    self.heap_array[popped_idx], self.heap_array[left_child_popped_idx] \\\n",
    "                    = self.heap_array[left_child_popped_idx], self.heap_array[popped_idx]\n",
    "                    popped_idx = left_child_popped_idx\n",
    "            \n",
    "            # case3 양쪽 노드 있음 -> 왼쪽, 오른쪽 두 자식을 비교하여 먼저 큰 것을 가져옴.\n",
    "            else:\n",
    "                # 자식노드끼리 비교해봄. left가 더 크다\n",
    "                if self.heap_array[left_child_popped_idx] > self.heap_array[right_child_popped_idx]:\n",
    "                    # 왼쪽과 부모를 비교해서 왼쪽이 더 크면 첸지\n",
    "                    if self.heap_array[popped_idx] < self.heap_array[left_child_popped_idx]:\n",
    "                        self.heap_array[popped_idx], self.heap_array[left_child_popped_idx] \\\n",
    "                        = self.heap_array[left_child_popped_idx], self.heap_array[popped_idx]\n",
    "                        popped_idx = left_child_popped_idx\n",
    "                # 자식노드끼리 비교해봄. right가 더 크다.\n",
    "                else:\n",
    "                    # 오른쪽과 부모를 비교해서 오른쪽이 더 크면 첸지\n",
    "                    if self.heap_array[popped_idx] < self.heap_array[right_child_popped_idx]:\n",
    "                        self.heap_array[popped_idx], self.heap_array[right_child_popped_idx] \\\n",
    "                        = self.heap_array[right_child_popped_idx], self.heap_array[popped_idx]\n",
    "                        popped_idx = right_child_popped_idx\n",
    "\n",
    "        return returned_data"
   ]
  },
  {
   "cell_type": "code",
   "execution_count": 34,
   "metadata": {},
   "outputs": [
    {
     "name": "stdout",
     "output_type": "stream",
     "text": [
      "[None, 20, 10, 15, 5, 4, 8]\n"
     ]
    }
   ],
   "source": [
    "heap = Heap(15)\n",
    "heap.insert(10)\n",
    "heap.insert(8)\n",
    "heap.insert(5)\n",
    "heap.insert(4)\n",
    "heap.insert(20)\n",
    "print(heap.heap_array)"
   ]
  },
  {
   "cell_type": "code",
   "execution_count": 35,
   "metadata": {},
   "outputs": [
    {
     "name": "stdout",
     "output_type": "stream",
     "text": [
      "20\n",
      "15\n",
      "[None, 10, 5, 8, 4]\n"
     ]
    }
   ],
   "source": [
    "# 힙에 데이터 삭제 구현\n",
    "# 삭제는 항상 맨 부모노드만 빼는 것 / 가장 마지막에 있던 노드 가져와서 최상단 노드로 쓰고 아래로 비교하면서 낼감\n",
    "\n",
    "print(heap.pop())\n",
    "print(heap.pop())\n",
    "print(heap.heap_array)"
   ]
  },
  {
   "cell_type": "markdown",
   "metadata": {},
   "source": [
    "### 힙 시간 복잡도\n",
    "- depth 트리의 높이를 h라고 했을 때\n",
    "- n개의 노드를 가지는 heap에 데이터 삽입 또는 삭제시, 최악의 경우 root노드에서 leaf노드까지 비교시 h=log2n 에 가까우므로 시간 복잡도는 O(logn) 이라고 할 수 있다.\n",
    "- 참고: 빅오 표기법에서 $log{n}$ 에서의 log의 밑은 10이 아니라, 2입니다.\n",
    "- 한번 실행시마다, 50%의 실행할 수도 있는 명령을 제거한다는 의미. 즉 50%의 실행시간을 단축시킬 수 있다는 것을 의미함"
   ]
  }
 ],
 "metadata": {
  "kernelspec": {
   "display_name": "Python 3",
   "language": "python",
   "name": "python3"
  },
  "language_info": {
   "codemirror_mode": {
    "name": "ipython",
    "version": 3
   },
   "file_extension": ".py",
   "mimetype": "text/x-python",
   "name": "python",
   "nbconvert_exporter": "python",
   "pygments_lexer": "ipython3",
   "version": "3.7.5"
  }
 },
 "nbformat": 4,
 "nbformat_minor": 2
}
 
