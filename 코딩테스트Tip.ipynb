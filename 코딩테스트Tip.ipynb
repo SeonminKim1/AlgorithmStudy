{
 "cells": [
  {
   "cell_type": "markdown",
   "metadata": {},
   "source": [
    "# <코딩테스트를 위한 내용>\n",
    "\n",
    " \n",
    "- Python에서 입력값을 받을 때 input() 함수를 사용하지만 시간단축을 위해 sys.stdin.readline을 사용\n",
    "\n",
    "- 입출력 속도 비교 : sys.stdin.readline > raw_input() > input()\n",
    "- num = int(input())   ->  num = int(sys.stdin.readline())\n",
    "- 사용 시, import sys  선언 필요\n",
    "\n",
    "\n",
    "### 여러 라인 입력 받을 경우 아래와 같이 사용하는 게 빠르다고 함\n",
    "- n = input()\n",
    "- a = [sys.stdin.readline() for i in range(n)]\n",
    "\n",
    "### 한 라인 입력받을 때\n",
    "- sys.stdin.readline : \n",
    "\n",
    "### 여러 줄 입력 받을 때\n",
    "- sys.stdin : \n",
    "    - for line in sys.stdin:\n",
    "    - print(line)\n",
    "\n",
    "### 재귀함수가 있는 경우 재귀 깊이를 설정해야 한다. (python3 의 경우 사용가능 / pypy에서는 사용 불가)\n",
    "- sys.setrecursionlimit(10**8) # 10^8 까지 늘림."
   ]
  }
 ],
 "metadata": {
  "kernelspec": {
   "display_name": "Python 3",
   "language": "python",
   "name": "python3"
  },
  "language_info": {
   "codemirror_mode": {
    "name": "ipython",
    "version": 3
   },
   "file_extension": ".py",
   "mimetype": "text/x-python",
   "name": "python",
   "nbconvert_exporter": "python",
   "pygments_lexer": "ipython3",
   "version": "3.7.5"
  }
 },
 "nbformat": 4,
 "nbformat_minor": 4
}
