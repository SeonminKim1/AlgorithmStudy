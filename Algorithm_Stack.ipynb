{
 "cells": [
  {
   "cell_type": "code",
   "execution_count": 1,
   "metadata": {},
   "outputs": [],
   "source": [
    "# 스택\n",
    "# LIFO 정책 : Last in First Out / 큐는 FIFO로 많이 부르는데 스택은 LIFO까지는 부르지는 않음.\n",
    "# 스택의 대표적인 활용\n",
    "# 컴퓨터 내부의 프로세스 함수 처리하는 동작에서 스택이란 방식을 사용 \n",
    "# 함수호출은 스택기반으로 만들어졌음\n",
    "# 장점 : 데이터 저장/읽기 속도가 빠르다.\n",
    "# 단점 : 데이터 최대갯수를미리 정해야 하기때문에 비효율적 (파이썬의 경우 재귀함수 최대 1000개)\n",
    "# 단점 : 평소에는 1000개도 안쓰는데 확보해놔야 하니까 데이터 저장공간 낭비 발생\n",
    "# pop과 push로 구분"
   ]
  },
  {
   "cell_type": "code",
   "execution_count": 5,
   "metadata": {},
   "outputs": [
    {
     "name": "stdout",
     "output_type": "stream",
     "text": [
      "5\n",
      "4\n",
      "3\n",
      "2\n",
      "1\n",
      "0\n",
      "end\n",
      "return data 0\n",
      "return data 1\n",
      "return data 2\n",
      "return data 3\n",
      "return data 4\n",
      "return data 5\n"
     ]
    }
   ],
   "source": [
    "# Process Stack\n",
    "#  0층 recursive(0)\n",
    "#  1층 recursive(1)\n",
    "#  2층 recurisve(2)\n",
    "#  3층 recursive(3)\n",
    "#  4층 recursive(4) \n",
    "# 함수가 recursive(4)에서부터 타고 들어가 recursive(0)까지 간 뒤에 recursive(0) 부터 다시 호출되어진다\n",
    "\n",
    "def recursive(data):\n",
    "    if data<0:\n",
    "        print('end')\n",
    "    else:\n",
    "        print(data)\n",
    "        recursive(data-1)\n",
    "        print('return data', data)\n",
    "recursive(5)"
   ]
  },
  {
   "cell_type": "code",
   "execution_count": 13,
   "metadata": {},
   "outputs": [
    {
     "name": "stdout",
     "output_type": "stream",
     "text": [
      "pop값:  11\n",
      "pop값:  5\n",
      "pop값:  3\n"
     ]
    }
   ],
   "source": [
    "# 파이썬 리스트 기능을 이용하여 구현\n",
    "# append 함수 & \n",
    "# pop과 push 직접구현해보기 \n",
    "stack_list = list()\n",
    "def my_push(data):\n",
    "    stack_list.append(data)\n",
    "\n",
    "def my_pop():\n",
    "    pop_data = stack_list[-1]\n",
    "    del stack_list[-1]\n",
    "    return pop_data\n",
    "\n",
    "my_push(3)\n",
    "my_push(5)\n",
    "my_push(11)\n",
    "\n",
    "for i in range(0, len(stack_list)):\n",
    "    print('pop값: ', my_pop())"
   ]
  },
  {
   "cell_type": "code",
   "execution_count": 20,
   "metadata": {},
   "outputs": [
    {
     "name": "stdout",
     "output_type": "stream",
     "text": [
      "[1, 4, 2, 3, 7, 6]\n",
      "[1, 4, 7]\n"
     ]
    }
   ],
   "source": [
    "# 번외 list 추가\n",
    "li = []\n",
    "li.append(1)\n",
    "li.append(2)\n",
    "li.append(3)\n",
    "li.insert(1, 4)\n",
    "li2 = [7,6]\n",
    "li += li2\n",
    "print(li)\n",
    "\n",
    "# 번회 list 삭제\n",
    "li.pop()\n",
    "li.remove(3)\n",
    "del li[2]\n",
    "print(li)"
   ]
  }
 ],
 "metadata": {
  "kernelspec": {
   "display_name": "Python 3",
   "language": "python",
   "name": "python3"
  },
  "language_info": {
   "codemirror_mode": {
    "name": "ipython",
    "version": 3
   },
   "file_extension": ".py",
   "mimetype": "text/x-python",
   "name": "python",
   "nbconvert_exporter": "python",
   "pygments_lexer": "ipython3",
   "version": "3.7.5"
  }
 },
 "nbformat": 4,
 "nbformat_minor": 2
}
