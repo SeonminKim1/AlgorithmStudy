{
 "cells": [
  {
   "cell_type": "markdown",
   "metadata": {},
   "source": [
    "## BAEKJOON Algorithm 11650번 좌표정렬하기\n",
    "- https://www.acmicpc.net/problem/11650\n",
    "\n",
    "\n",
    "### 문제\n",
    "- 시간제한 1초 메모리제한 256MB\n",
    "\n",
    "- 2차원 평면 위의 점 N개가 주어진다. 좌표를 x좌표가 증가하는 순으로, x좌표가 같으면 y좌표가 증가하는 순서로 정렬한 다음 출력하는 프로그램을 작성하시오.\n",
    "\n",
    "### 입력\n",
    "- 첫째 줄에 점의 개수 N (1 ≤ N ≤ 100,000)이 주어진다. 둘째 줄부터 N개의 줄에는 i번점의 위치 xi와 yi가 주어진다. (-100,000 ≤ xi, yi ≤ 100,000) 좌표는 항상 정수이고, 위치가 같은 두 점은 없다.\n",
    "\n",
    "### 출력\n",
    "- 첫째 줄부터 N개의 줄에 점을 정렬한 결과를 출력한다.\n",
    "\n",
    "### 예제 입력 및 출력\n",
    "<table>\n",
    "    <tr><td>입력</td><td></td><td>출력</td><td></td></tr>\n",
    "    <tr><td>5</td><td></td><td>1</td><td>-1</td></tr>\n",
    "    <tr><td>3</td><td>4</td><td>1</td><td>1</td></tr>\n",
    "    <tr><td>1</td><td>1</td><td>2</td><td>2</td></tr>\n",
    "    <tr><td>1</td><td>-1</td><td>3</td><td>3</td></tr>\n",
    "    <tr><td>2</td><td>2</td><td>3</td><td>4</td></tr>\n",
    "    <tr><td>3</td><td>3</td><td></td><td></td></tr>\n",
    "</table>\n",
    "\n",
    "### 문제 풀이 방법\n",
    "- (x좌표 y좌표)를 입력받은 뒤 x좌표, y좌표 순서대로 차례대로 오름차순 정렬한다.\n",
    "- 파이썬의 기본 정렬 라이브러리는 기본적으로 튜플의 인덱스 순서대로 오름차순 정렬"
   ]
  },
  {
   "cell_type": "code",
   "execution_count": 1,
   "metadata": {},
   "outputs": [
    {
     "name": "stdout",
     "output_type": "stream",
     "text": [
      "5\n",
      "3 4\n",
      "1 1\n",
      "1 -1\n",
      "2 2\n",
      "3 3\n",
      "1 -1\n",
      "1 1\n",
      "2 2\n",
      "3 3\n",
      "3 4\n"
     ]
    }
   ],
   "source": [
    "n = int(input())\n",
    "array = []\n",
    "\n",
    "for _ in range(n):\n",
    "    x, y = map(int, input().split(' '))\n",
    "    array.append( (x,y) )\n",
    "    \n",
    "# 기본적으로 sorted하면 x[0]값 체크후 그담에 x[1]값 체크하면서 자동 정렬됨.\n",
    "array = sorted(array) # , reverse=True)\n",
    "\n",
    "for i in array:\n",
    "    print(i[0], i[1])"
   ]
  }
 ],
 "metadata": {
  "kernelspec": {
   "display_name": "Python 3",
   "language": "python",
   "name": "python3"
  },
  "language_info": {
   "codemirror_mode": {
    "name": "ipython",
    "version": 3
   },
   "file_extension": ".py",
   "mimetype": "text/x-python",
   "name": "python",
   "nbconvert_exporter": "python",
   "pygments_lexer": "ipython3",
   "version": "3.7.5"
  }
 },
 "nbformat": 4,
 "nbformat_minor": 4
}
