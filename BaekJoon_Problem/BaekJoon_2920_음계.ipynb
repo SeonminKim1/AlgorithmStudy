{
 "cells": [
  {
   "cell_type": "markdown",
   "metadata": {},
   "source": [
    "## BAEKJOON Algorithm 2920번 음계\n",
    "- https://www.acmicpc.net/problem/2920\n",
    "\n",
    "\n",
    "### 문제\n",
    "- 시간제한 1초 / 메모리 제한 : 128 MB\n",
    "\n",
    "- 다장조는 c d e f g a b C, 총 8개 음으로 이루어져있다. 이 문제에서 8개 음은 다음과 같이 숫자로 바꾸어 표현한다. c는 1로, d는 2로, ..., C를 8로 바꾼다.\n",
    "- 1부터 8까지 차례대로 연주한다면 ascending, 8부터 1까지 차례대로 연주한다면 descending, 둘 다 아니라면 mixed 이다.\n",
    "- 연주한 순서가 주어졌을 때, 이것이 ascending인지, descending인지, 아니면 mixed인지 판별하는 프로그램을 작성하시오.\n",
    "\n",
    "### 입력\n",
    "- 첫째 줄에 8개 숫자가 주어진다. 이 숫자는 문제 설명에서 설명한 음이며, 1부터 8까지 숫자가 한 번씩 등장한다.\n",
    "\n",
    "### 출력\n",
    "- 첫째 줄에 ascending, descending, mixed 중 하나를 출력한다.\n",
    "\n",
    "### 예제 입력 및 출력\n",
    "(1) 1 2 3 4 5 6 7 8   || ascending <br>\n",
    "(2) 8 7 6 5 4 3 2 1   || ascending <br>\n",
    "(3) 8 1 7 2 6 3 5 4   || mixed <br>"
   ]
  },
  {
   "cell_type": "code",
   "execution_count": 3,
   "metadata": {},
   "outputs": [
    {
     "name": "stdout",
     "output_type": "stream",
     "text": [
      "8 7 6 5 4 3 2 1\n",
      "descending\n"
     ]
    }
   ],
   "source": [
    "# 풀이1\n",
    "def sortshape(data):\n",
    "    asc, desc = True, True\n",
    "    result=''\n",
    "    for i in range(len(data)-1):\n",
    "        # ascending 일 때\n",
    "        if data[i] < data[i+1]:\n",
    "            desc = False\n",
    "            \n",
    "        # descending 일 때 \n",
    "        elif data[i] > data[i+1]:\n",
    "            asc = False\n",
    "    # 최종 조건체크\n",
    "    if asc==True:\n",
    "        result = 'ascending'\n",
    "    elif desc==True:\n",
    "        result = 'descending'\n",
    "    else:\n",
    "        result = 'mixed'\n",
    "    return result\n",
    "                    \n",
    "\n",
    "if __name__ == '__main__':\n",
    "    data = list(map(int, input().split(' ')))\n",
    "    print(sortshape(data))"
   ]
  },
  {
   "cell_type": "code",
   "execution_count": 7,
   "metadata": {},
   "outputs": [
    {
     "name": "stdout",
     "output_type": "stream",
     "text": [
      "1 2 3 4 5 6 7 8\n",
      "ascending\n"
     ]
    }
   ],
   "source": [
    "# 풀이 2\n",
    "data = list(map(int, input().split(' ')))\n",
    "asc, desc = True, True\n",
    "\n",
    "for i in range(len(data)-1):\n",
    "    if data[i] < data[i+1]:\n",
    "        desc = False\n",
    "\n",
    "    elif data[i] > data[i+1]:\n",
    "        asc = False\n",
    "\n",
    "# 최종 조건체크\n",
    "if asc:\n",
    "    print('ascending')                    \n",
    "elif desc:\n",
    "    print('descending')                    \n",
    "else:\n",
    "    print('mixed')                    \n"
   ]
  },
  {
   "cell_type": "markdown",
   "metadata": {},
   "source": [
    "### 백준 실행 결과\n",
    "- 메모리 29284KB 시간 / 56ms\n",
    "\n",
    "#### 다양한 시도 끝에 얻은 몇가지 팁\n",
    "- (1) range(len(data)-1) == 0, 8 # 똑같다.\n",
    "- (2) 함수로 넣어서 return으로 가져오든 그냥 main에 다 때려박든 똑같다.\n",
    "- (3) python이 아닌 pypy3 로 하게되면 메모리는 좀더 많이쓰되 속도가 줄어든다."
   ]
  }
 ],
 "metadata": {
  "kernelspec": {
   "display_name": "Python 3",
   "language": "python",
   "name": "python3"
  },
  "language_info": {
   "codemirror_mode": {
    "name": "ipython",
    "version": 3
   },
   "file_extension": ".py",
   "mimetype": "text/x-python",
   "name": "python",
   "nbconvert_exporter": "python",
   "pygments_lexer": "ipython3",
   "version": "3.7.5"
  }
 },
 "nbformat": 4,
 "nbformat_minor": 4
}
