{
 "cells": [
  {
   "cell_type": "markdown",
   "metadata": {},
   "source": [
    "## BAEKJOON Algorithm 1920번 수 찾기\n",
    "- https://www.acmicpc.net/problem/1920\n",
    "\n",
    "\n",
    "### 문제\n",
    "- 시간제한 2초 메모리제한 128MB\n",
    "\n",
    "- N개의 정수 A[1], A[2], …, A[N]이 주어져 있을 때, 이 안에 X라는 정수가 존재하는지 알아내는 프로그램을 작성하시오.\n",
    "\n",
    "### 입력\n",
    "- 첫째 줄에 자연수 N(1≤N≤100,000)이 주어진다. 다음 줄에는 N개의 정수 A[1], A[2], …, A[N]이 주어진다. \n",
    "- 다음 줄에는 M(1≤M≤100,000)이 주어진다. 다음 줄에는 M개의 수들이 주어지는데, 이 수들이 A안에 존재하는지 알아내면 된다. 모든 정수의 범위는 -231 보다 크거나 같고 231보다 작다.\n",
    "\n",
    "### 출력\n",
    "- M개의 줄에 답을 출력한다. 존재하면 1을, 존재하지 않으면 0을 출력한다.\n",
    "\n",
    "### 예제 입력 및 출력\n",
    "- 입력\n",
    "<table>\n",
    "    <tr><td>입력</td><td></td><td></td><td></td><td></td><td>출력</td></tr>    \n",
    "    <tr><td>5</td><td></td><td></td><td></td><td></td><td>1</td></tr>\n",
    "    <tr><td>4</td><td>1</td><td>5</td><td>2</td><td>3</td><td>1</td></tr>\n",
    "    <tr><td>5</td><td></td><td></td><td></td><td></td><td>0</td></tr>\n",
    "    <tr><td>1</td><td>3</td><td>7</td><td>9</td><td>5</td><td>0</td></tr>\n",
    "    <tr><td></td><td></td><td></td><td></td><td></td><td>1</td></tr>\n",
    "</table>\n",
    "\n",
    "### 문제 풀이 아이디어\n",
    "- (1) 특정 정수의 등장 여부만을 체크하면 됨.\n",
    "- (2) dictionary 자료형을 해시처럼 사용 가능 / 본문은 set자료형을 이용해서 더욱 간단히 풀수 있음."
   ]
  },
  {
   "cell_type": "code",
   "execution_count": 3,
   "metadata": {},
   "outputs": [
    {
     "name": "stdout",
     "output_type": "stream",
     "text": [
      "5\n",
      "4 1 5 2 3\n",
      "5\n",
      "1 3 7 9 5\n",
      "1\n",
      "1\n",
      "0\n",
      "0\n",
      "1\n"
     ]
    }
   ],
   "source": [
    "n = int(input())\n",
    "# 자료형 set으로 받아서 중복을 없애줘야 함. 안그러면 시간초과 발생.\n",
    "array = set(map(int, input().split(' ')))\n",
    "m = int(input())\n",
    "x = list(map(int, input().split(' ')))\n",
    "#print(n, array, m, x)\n",
    "\n",
    "for i in x:\n",
    "    if i in array:\n",
    "        print('1')\n",
    "    else :\n",
    "        print('0')\n",
    "        "
   ]
  }
 ],
 "metadata": {
  "kernelspec": {
   "display_name": "Python 3",
   "language": "python",
   "name": "python3"
  },
  "language_info": {
   "codemirror_mode": {
    "name": "ipython",
    "version": 3
   },
   "file_extension": ".py",
   "mimetype": "text/x-python",
   "name": "python",
   "nbconvert_exporter": "python",
   "pygments_lexer": "ipython3",
   "version": "3.7.5"
  }
 },
 "nbformat": 4,
 "nbformat_minor": 4
}
