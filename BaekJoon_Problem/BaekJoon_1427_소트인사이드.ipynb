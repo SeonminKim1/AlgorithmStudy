{
 "cells": [
  {
   "cell_type": "markdown",
   "metadata": {},
   "source": [
    "## BAEKJOON Algorithm 1427번 소트인사이드\n",
    "- https://www.acmicpc.net/problem/1427\n",
    "\n",
    "\n",
    "### 문제\n",
    "- 시간제한 2초 메모리제한 128MB\n",
    "\n",
    "- 배열을 정렬하는 것은 쉽다. 수가 주어지면, 그 수의 각 자리수를 내림차순으로 정렬해보자.\n",
    "\n",
    "### 입력\n",
    "- 첫째 줄에 정렬하고자하는 수 N이 주어진다. N은 1,000,000,000보다 작거나 같은 자연수이다.\n",
    "\n",
    "\n",
    "### 출력\n",
    "- 첫째 줄에 자리수를 내림차순으로 정렬한 수를 출력한다.\n",
    "\n",
    "\n",
    "### 예제 입력 및 출력\n",
    "- 입력\n",
    "2143\n",
    "\n",
    "- 출력\n",
    "4321"
   ]
  },
  {
   "cell_type": "code",
   "execution_count": 1,
   "metadata": {},
   "outputs": [
    {
     "name": "stdout",
     "output_type": "stream",
     "text": [
      "2143\n",
      "4321"
     ]
    }
   ],
   "source": [
    "N=input()\n",
    "num_list = []\n",
    "for i in range(9, -1,-1):\n",
    "    for j in N:\n",
    "        if int(j) == i :\n",
    "            print(i, end='')\n"
   ]
  }
 ],
 "metadata": {
  "kernelspec": {
   "display_name": "Python 3",
   "language": "python",
   "name": "python3"
  },
  "language_info": {
   "codemirror_mode": {
    "name": "ipython",
    "version": 3
   },
   "file_extension": ".py",
   "mimetype": "text/x-python",
   "name": "python",
   "nbconvert_exporter": "python",
   "pygments_lexer": "ipython3",
   "version": "3.7.5"
  }
 },
 "nbformat": 4,
 "nbformat_minor": 4
}
