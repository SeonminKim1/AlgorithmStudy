{
 "cells": [
  {
   "cell_type": "markdown",
   "metadata": {},
   "source": [
    "## BAEKJOON Algorithm 10930번 SHA-256\n",
    "- https://www.acmicpc.net/problem/10930\n",
    "\n",
    "\n",
    "### 문제\n",
    "- 시간제한 1초 메모리제한 256MB\n",
    "\n",
    "- 문자열 S가 주어졌을 때, SHA-256 해시값을 구하는 프로그램을 작성하시오.\n",
    "\n",
    "### 입력\n",
    "- 첫째 줄에 문자열 S가 주어진다. S는 알파벳 대문자와 소문자, 그리고 숫자로만 이루어져 있으며, 길이는 최대 50이다.\n",
    "\n",
    "### 출력\n",
    "- 첫째 줄에 S의 SHA-256 해시값을 출력한다.\n",
    "\n",
    "### 예제 입력 및 출력\n",
    "- 입력\n",
    "Baekjoon\n",
    "\n",
    "- 출력\n",
    "9944e1862efbb2a4e2486392dc6701896416b251eccdecb8332deb7f4cf2a857\n",
    "\n",
    "### 문제 풀이 아이디어\n",
    "- (1) hashlib의 sha256함수를 이용하여 SHA256 해시 구하기 가능.\n",
    "- (2) hashlib.sha256(문자열의 바이트 객체).hexdigest() : 해시결과 문자열"
   ]
  },
  {
   "cell_type": "code",
   "execution_count": 2,
   "metadata": {},
   "outputs": [
    {
     "name": "stdout",
     "output_type": "stream",
     "text": [
      "Baekjoon\n",
      "9944e1862efbb2a4e2486392dc6701896416b251eccdecb8332deb7f4cf2a857\n"
     ]
    }
   ],
   "source": [
    "# 풀이\n",
    "import hashlib\n",
    "input_data = input()\n",
    "\n",
    "# 바이트로 인코딩해서 가져옴.\n",
    "encoded_data = input_data.encode()\n",
    "\n",
    "# 해쉬 라이브러리 실행\n",
    "result = hashlib.sha256(encoded_data).hexdigest()\n",
    "print(result)\n",
    "\n",
    "# 오프라인에서는 안나올 것임. 모듈이름을 모를 수 있으니까 온라인에서 나올 수 있음."
   ]
  }
 ],
 "metadata": {
  "kernelspec": {
   "display_name": "Python 3",
   "language": "python",
   "name": "python3"
  },
  "language_info": {
   "codemirror_mode": {
    "name": "ipython",
    "version": 3
   },
   "file_extension": ".py",
   "mimetype": "text/x-python",
   "name": "python",
   "nbconvert_exporter": "python",
   "pygments_lexer": "ipython3",
   "version": "3.7.5"
  }
 },
 "nbformat": 4,
 "nbformat_minor": 4
}
