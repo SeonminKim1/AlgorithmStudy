{
 "cells": [
  {
   "cell_type": "markdown",
   "metadata": {},
   "source": [
    "## BAEKJOON Algorithm 2751번 수정렬하기 2\n",
    "- https://www.acmicpc.net/problem/2751\n",
    "\n",
    "\n",
    "### 문제\n",
    "- 시간제한 2초 메모리제한 256MB\n",
    "- N개의 수가 주어졌을 때, 이를 오름차순으로 정렬하는 프로그램을 작성하시오.\n",
    "\n",
    "### 입력\n",
    "- 첫째 줄에 수의 개수 N(1 ≤ N ≤ 1,000,000)이 주어진다. 둘째 줄부터 N개의 줄에는 숫자가 주어진다. 이 수는 절댓값이 1,000,000보다 작거나 같은 정수이다. 수는 중복되지 않는다.\n",
    "\n",
    "### 출력\n",
    "- 첫째 줄부터 N개의 줄에 오름차순으로 정렬한 결과를 한 줄에 하나씩 출력한다.\n",
    "\n",
    "### 예제 입력 및 출력\n",
    "- 입력 : 5    5 4 3 2 1\n",
    "- 출력 : 1 2 3 4 5\n",
    "\n",
    "\n",
    "###  문제풀이 방법 \n",
    "- 데이터의 갯수가 최대 1,000,000개 이니까\n",
    "- 병합정렬, 퀵 정렬, 힙 정렬 등 이용해야 함\n",
    "- 단 퀵의 경우는 O(n^2)까지 될 수 있으니까 병합이나 힙 이용할 것!!!\n",
    "- 코테에서는 기본적으로 기본 정렬 라이브러리를 이용하여 문제 풀 것!\n",
    "- 메모리가 허용된다면 되도록 PyPy3를 선택 \n",
    "\n",
    "- 병합은 분할정복방식 / 절반씩 합치면서 전체 리스트가 정렬되고 / 시간복잡도 O(N log N)\n",
    "- 병합시에는 리스트의 앞 원소부터 차례대로 채워 넣기. "
   ]
  },
  {
   "cell_type": "code",
   "execution_count": 2,
   "metadata": {},
   "outputs": [
    {
     "name": "stdout",
     "output_type": "stream",
     "text": [
      "5\n",
      "1\n",
      "2\n",
      "3\n",
      "4\n",
      "5\n",
      "1\n",
      "2\n",
      "3\n",
      "4\n",
      "5\n"
     ]
    }
   ],
   "source": [
    "def merge_sort(array):\n",
    "    if len(array) <= 1:\n",
    "        return array\n",
    "    mid = len(array)//2\n",
    "    left = merge_sort(array[:mid])\n",
    "    right = merge_sort(array[mid:])\n",
    "    \n",
    "    i, j, k = 0, 0, 0\n",
    "    while i<len(left) and j<len(right):\n",
    "        if left[i] < right[j]:\n",
    "            array[k] = left[i]\n",
    "            i += 1\n",
    "        else:\n",
    "            array[k] = right[j]\n",
    "            j += 1\n",
    "        k+=1\n",
    "    if i==len(left):\n",
    "        while j<len(right):\n",
    "            array[k] = right[j]\n",
    "            j+=1\n",
    "            k+=1\n",
    "    elif j == len(right):\n",
    "        while i<len(left):\n",
    "            array[k] = left[i]\n",
    "            i+=1\n",
    "            k+=1\n",
    "    return array\n",
    "\n",
    "n = int(input())\n",
    "array=[]\n",
    "\n",
    "for _ in range(n):\n",
    "    array.append(int(input()))\n",
    "    \n",
    "array = merge_sort(array)\n",
    "\n",
    "for data in array:\n",
    "    print(data)"
   ]
  },
  {
   "cell_type": "code",
   "execution_count": 3,
   "metadata": {},
   "outputs": [
    {
     "name": "stdout",
     "output_type": "stream",
     "text": [
      "5\n",
      "1\n",
      "2\n",
      "3\n",
      "4\n",
      "5\n",
      "1\n",
      "2\n",
      "3\n",
      "4\n",
      "5\n"
     ]
    }
   ],
   "source": [
    "# 실제 시험장에서는 병합정렬 쓰기어려우니까 이렇게 써도 됨.\n",
    "n = int(input())\n",
    "array=[]\n",
    "\n",
    "for _ in range(n):\n",
    "    array.append(int(input()))\n",
    "    \n",
    "array = sorted(array)\n",
    "\n",
    "for data in array:\n",
    "    print(data)"
   ]
  }
 ],
 "metadata": {
  "kernelspec": {
   "display_name": "Python 3",
   "language": "python",
   "name": "python3"
  },
  "language_info": {
   "codemirror_mode": {
    "name": "ipython",
    "version": 3
   },
   "file_extension": ".py",
   "mimetype": "text/x-python",
   "name": "python",
   "nbconvert_exporter": "python",
   "pygments_lexer": "ipython3",
   "version": "3.7.5"
  }
 },
 "nbformat": 4,
 "nbformat_minor": 4
}
