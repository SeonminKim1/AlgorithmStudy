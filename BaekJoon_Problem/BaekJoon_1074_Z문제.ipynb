{
 "cells": [
  {
   "cell_type": "markdown",
   "metadata": {},
   "source": [
    "## BAEKJOON Algorithm 1074번 Z문제\n",
    "- https://www.acmicpc.net/problem/1074\n",
    "\n",
    "\n",
    "### 문제\n",
    "- 시간제한 2초 메모리제한 512MB\n",
    "\n",
    "- 한수는 2차원 배열 (항상 2^N * 2^N 크기이다)을 Z모양으로 탐색하려고 한다. 예를 들어, 2*2배열을 왼쪽 위칸, 오른쪽 위칸, 왼쪽 아래칸, 오른쪽 아래칸 순서대로 방문하면 Z모양이다.\n",
    "\n",
    "\n",
    "- 만약, 2차원 배열의 크기가 2^N * 2^N라서 왼쪽 위에 있는 칸이 하나가 아니라면, 배열을 4등분 한 후에 (크기가 같은 2^(N-1)로) 재귀적으로 순서대로 방문한다.\n",
    "\n",
    "\n",
    "- N이 주어졌을 때, (r, c)를 몇 번째로 방문하는지 출력하는 프로그램을 작성하시오.\n",
    "\n",
    "### 입력\n",
    "- 첫째 줄에 N r c가 주어진다. N은 15보다 작거나 같은 자연수이고, r과 c는 0보다 크거나 같고, 2^N-1보다 작거나 같은 정수이다\n",
    "\n",
    "### 출력\n",
    "- 첫째 줄에 문제의 정답을 출력한다.\n",
    "\n",
    "### 예제 입력 및 출력\n",
    "- 입력 : 2 3 1      출력 : 11\n",
    "- 입력 : 3 7 7      출력 : 63 \n",
    "\n",
    "###  전형적인 재귀함수 문제\n",
    "- Z 모양을 구성하는 4가지 방향에 대하여 차례대로 재귀적으로 호출\n",
    "- "
   ]
  },
  {
   "cell_type": "code",
   "execution_count": 4,
   "metadata": {},
   "outputs": [
    {
     "name": "stdout",
     "output_type": "stream",
     "text": [
      "2 3 1\n",
      "11\n"
     ]
    }
   ],
   "source": [
    "def solve(n, x, y):\n",
    "    global result\n",
    "    \n",
    "    # 마지막 호출 (종료지점)\n",
    "    if n==2:\n",
    "        if x==X and y==Y:\n",
    "            print(result)\n",
    "            return\n",
    "        result +=1\n",
    "        \n",
    "        if x==X and y+1 == Y:\n",
    "            print(result)\n",
    "            return\n",
    "        result +=1\n",
    "        \n",
    "        if x+1 == X and y == Y:\n",
    "            print(result)\n",
    "            return\n",
    "        result +=1\n",
    "        \n",
    "        if x+1 == X and y+1 ==Y:\n",
    "            print(result)\n",
    "            return\n",
    "        result +=1\n",
    "        return\n",
    "    # 4방향을 거치면서 각각 최정점에서 +1을 진행함\n",
    "    solve(n/2, x, y) # 4칸중 왼쪽윗칸\n",
    "    solve(n/2, x, y+n/2) # 4칸 중 윗쪽 오른쪽칸\n",
    "    solve(n/2, x+n/2, y) # 4칸 중 아래쪽 왼쪽칸\n",
    "    solve(n/2, x+n/2, y+n/2) # 4칸 중 아래쪽 오른쪽 칸\n",
    "    \n",
    "result = 0\n",
    "N, X, Y = map(int, input().split(' '))\n",
    "solve(2**N, 0, 0)"
   ]
  }
 ],
 "metadata": {
  "kernelspec": {
   "display_name": "Python 3",
   "language": "python",
   "name": "python3"
  },
  "language_info": {
   "codemirror_mode": {
    "name": "ipython",
    "version": 3
   },
   "file_extension": ".py",
   "mimetype": "text/x-python",
   "name": "python",
   "nbconvert_exporter": "python",
   "pygments_lexer": "ipython3",
   "version": "3.7.5"
  }
 },
 "nbformat": 4,
 "nbformat_minor": 4
}
