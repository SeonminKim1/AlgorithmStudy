{
 "cells": [
  {
   "cell_type": "markdown",
   "metadata": {},
   "source": [
    "## BAEKJOON Algorithm 10989번 수 정렬하기3\n",
    "- https://www.acmicpc.net/problem/10989\n",
    "\n",
    "\n",
    "### 문제\n",
    "- 시간제한 3초 메모리제한 8MB\n",
    "\n",
    "- N개의 수가 주어졌을 때, 이를 오름차순으로 정렬하는 프로그램을 작성하시오.\n",
    "\n",
    "### 입력\n",
    "- 첫째 줄에 수의 개수 N(1 ≤ N ≤ 10,000,000)이 주어진다. 둘째 줄부터 N개의 줄에는 숫자가 주어진다. 이 수는 10,000보다 작거나 같은 자연수이다.\n",
    "\n",
    "### 출력\n",
    "- 첫째 줄부터 N개의 줄에 오름차순으로 정렬한 결과를 한 줄에 하나씩 출력한다.\n",
    "\n",
    "### 예제 입력 및 출력\n",
    "\n",
    "<table>\n",
    "    <tr><td>입력</td><td>출력</td></tr>\n",
    "    <tr><td>10</td><td></td></tr>\n",
    "    <tr><td>5</td><td>1</td></tr>\n",
    "    <tr><td>2</td><td>1</td></tr>\n",
    "    <tr><td>3</td><td>2</td></tr>\n",
    "    <tr><td>1</td><td>2</td></tr>\n",
    "    <tr><td>4</td><td>3</td></tr>\n",
    "    <tr><td>2</td><td>3</td></tr>\n",
    "    <tr><td>3</td><td>4</td></tr>\n",
    "    <tr><td>5</td><td>5</td></tr>\n",
    "    <tr><td>1</td><td>5</td></tr>\n",
    "    <tr><td>4</td><td>7</td></tr>\n",
    "</table>\n",
    "\n",
    "### 문제 풀이 방법\n",
    "- !!!!!!파이썬은 기본 2000만번 까지 가능한데 해당 문제는 천만번까지 N이 주어진다. 따라서 파이썬 기본 라이브러리가 아닌 다른 것으로 풀어야 한다.\n",
    "- !!!!!! 데이터의 갯수가 많을 때에는 파이썬에서는 sys.stdin.readline() 을 사용해야 함. (속도가 더 빠르다)\n",
    "- !!!!!! 메모리가 작을 경우 python으로 제출해야 함 PYPI는 메모리를 더먹으니까\n",
    "- 계수 정렬 Couning Sort 알고리즘\n",
    "- 배열의 인덱스를 특정한 데이터의 값의 횟수로 여김.\n",
    "- 데이터가 등장한 횟수를 셈\n"
   ]
  },
  {
   "cell_type": "code",
   "execution_count": 7,
   "metadata": {},
   "outputs": [
    {
     "name": "stdout",
     "output_type": "stream",
     "text": [
      "10\n",
      "5\n",
      "2\n",
      "3\n",
      "1\n",
      "4\n",
      "2\n",
      "3\n",
      "5\n",
      "1\n",
      "4\n",
      "1\n",
      "1\n",
      "2\n",
      "2\n",
      "3\n",
      "3\n",
      "4\n",
      "4\n",
      "5\n",
      "5\n"
     ]
    }
   ],
   "source": [
    "import sys\n",
    "#n = int(sys.stdin.readline())\n",
    "n = int(input())\n",
    "array = [0] * 10001\n",
    "\n",
    "for i in range(n):\n",
    "#    data = int(sys.stdin.readline())\n",
    "    data = int(input())\n",
    "    array[data] += 1\n",
    "\n",
    "for j in range(len(array)):\n",
    "    if array[j] != 0:\n",
    "        for k in range(array[j]):\n",
    "            print(j)\n",
    "#print(array)"
   ]
  }
 ],
 "metadata": {
  "kernelspec": {
   "display_name": "Python 3",
   "language": "python",
   "name": "python3"
  },
  "language_info": {
   "codemirror_mode": {
    "name": "ipython",
    "version": 3
   },
   "file_extension": ".py",
   "mimetype": "text/x-python",
   "name": "python",
   "nbconvert_exporter": "python",
   "pygments_lexer": "ipython3",
   "version": "3.7.5"
  }
 },
 "nbformat": 4,
 "nbformat_minor": 4
}
