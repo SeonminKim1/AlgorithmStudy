{
 "cells": [
  {
   "cell_type": "markdown",
   "metadata": {},
   "source": [
    "## BAEKJOON Algorithm 5397번 키로거\n",
    "- https://www.acmicpc.net/problem/5397\n",
    "\n",
    "\n",
    "### 문제\n",
    "- 시간제한 1초 메모리제한 256MB\n",
    "\n",
    "- 창영이는 강산이의 비밀번호를 훔치기 위해서 강산이가 사용하는 컴퓨터에 키로거를 설치했다. 며칠을 기다린 끝에 창영이는 강산이가 비밀번호 창에 입력하는 글자를 얻어냈다.\n",
    "\n",
    "- 키로거는 사용자가 키보드를 누른 명령을 모두 기록한다. 따라서, 강산이가 비밀번호를 입력할 때, 화살표나 백스페이스를 입력해도 정확한 비밀번호를 알아낼 수 있다.\n",
    "\n",
    "- 강산이가 비밀번호 창에서 입력한 키가 주어졌을 때, 강산이의 비밀번호를 알아내는 프로그램을 작성하시오.\n",
    "\n",
    "### 입력\n",
    "- 첫째 줄에 테스트 케이스의 개수가 주어진다. 각 테스트 케이스는 한줄로 이루어져 있고, 강산이가 입력한 순서대로 길이가 L인 문자열이 주어진다. (1 ≤ L의 길이 ≤ 1,000,000) 강산이가 백스페이스를 입력했다면, '-'가 주어진다. 이때 커서의 바로 앞에 글자가 존재한다면, 그 글자를 지운다. 화살표의 입력은 '<'와 '>'로 주어진다. 이때는 커서의 위치를 움직일 수 있다면, 왼쪽 또는 오른쪽으로 1만큼 움직인다. 나머지 문자는 비밀번호의 일부이다. 물론, 나중에 백스페이스를 통해서 지울 수는 있다. 만약 커서의 위치가 줄의 마지막이 아니라면, 그 문자를 입력하고, 커서는 오른쪽으로 한 칸 이동한다.\n",
    "\n",
    "### 출력\n",
    "- 각 테스트 케이스에 대해서, 강산이의 비밀번호를 출력한다. 비밀번호의 길이는 항상 0보다 크다.\n",
    "\n",
    "\n",
    "### 예제 입력 및 출력\n",
    "** 입력\n",
    "- 2\n",
    "- <<BP< A >>Cd-\n",
    "- ThIsIsS3Cr3t ( L이아니라 I임)\n",
    "\n",
    "** 출력\n",
    "- BAPC\n",
    "- ThIsIsS3Cr3t\n"
   ]
  },
  {
   "cell_type": "markdown",
   "metadata": {},
   "source": [
    "### 풀이방법\n",
    "- 1) 스택 두개를 만들고 스택 두 개의 중간지점을 커서(Cursor)로 간주한다.\n",
    "- 2) 문자입력 : 왼쪽 스택에 원소를 삽입한다.\n",
    "- 3) - 입력:왼쪽 스택에서 원소를 삭제한다.\n",
    "- 4) < 입력 : 왼쪽 스택에서 오른쪽 스택으로 원소를 이동한다 (커서가 하나 이동해서 스택이 하나 빠졋다고 봐도됨\n",
    "- 5) > 입력 : 오른쪽 스택에서 왼쪽 스택으로 원소를 이동한다."
   ]
  },
  {
   "cell_type": "code",
   "execution_count": null,
   "metadata": {},
   "outputs": [],
   "source": [
    "# 풀이 \n",
    "# 스택 두개로 만들고 가운데 커서라고 생각하고 왼쪽과 오른쪽 왔다갔다 하면서 처리\n",
    "test_case = int(input())\n",
    "for _ in range(test_case):\n",
    "    data = input()\n",
    "    l_stack, r_stack = list(), list()\n",
    "    for i in data:\n",
    "        if i =='-':\n",
    "            # left_stack이 있을 경우에 빼기\n",
    "            if l_stack:\n",
    "                l_stack.pop()\n",
    "        elif i=='<':\n",
    "            if l_stack:\n",
    "                r_stack.append(l_stack.pop())\n",
    "        elif i=='>':\n",
    "            if r_stack:\n",
    "                l_stack.append(r_stack.pop())\n",
    "        else:\n",
    "            l_stack.append(i)\n",
    "    l_stack.extend(reversed(r_stack))\n",
    "    print(''.join(l_stack))"
   ]
  }
 ],
 "metadata": {
  "kernelspec": {
   "display_name": "Python 3",
   "language": "python",
   "name": "python3"
  },
  "language_info": {
   "codemirror_mode": {
    "name": "ipython",
    "version": 3
   },
   "file_extension": ".py",
   "mimetype": "text/x-python",
   "name": "python",
   "nbconvert_exporter": "python",
   "pygments_lexer": "ipython3",
   "version": "3.7.5"
  }
 },
 "nbformat": 4,
 "nbformat_minor": 4
}
