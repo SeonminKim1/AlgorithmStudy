{
 "cells": [
  {
   "cell_type": "markdown",
   "metadata": {},
   "source": [
    "## BAEKJOON Algorithm 4195번 친구 네트워크찾기\n",
    "- https://www.acmicpc.net/problem/1920\n",
    "\n",
    "\n",
    "### 문제\n",
    "- 시간제한 3초 메모리제한 256MB 난이도 중\n",
    "\n",
    "- 민혁이는 소셜 네트워크 사이트에서 친구를 만드는 것을 좋아하는 친구이다. 우표를 모으는 취미가 있듯이, 민혁이는 소셜 네트워크 사이트에서 친구를 모으는 것이 취미이다.\n",
    "\n",
    "- 어떤 사이트의 친구 관계가 생긴 순서대로 주어졌을 때, 두 사람의 친구 네트워크에 몇 명이 있는지 구하는 프로그램을 작성하시오.\n",
    "\n",
    "- 친구 네트워크란 친구 관계만으로 이동할 수 있는 사이를 말한다.\n",
    "\n",
    "### 입력\n",
    "- 첫째 줄에 테스트 케이스의 개수가 주어진다. 각 테스트 케이스의 첫째 줄에는 친구 관계의 수 F가 주어지며, 이 값은 100,000을 넘지 않는다. 다음 F개의 줄에는 친구 관계가 생긴 순서대로 주어진다. 친구 관계는 두 사용자의 아이디로 이루어져 있으며, 알파벳 대문자 또는 소문자로만 이루어진 길이 20 이하의 문자열이다.\n",
    "\n",
    "### 출력\n",
    "- 친구 관계가 생길 때마다, 두 사람의 친구 네트워크에 몇 명이 있는지 구하는 프로그램을 작성하시오.\n",
    "\n",
    "### 예제 입력 및 출력\n",
    "- 입력\n",
    "<table>\n",
    "    <tr><td>입력</td><td>출력</td></tr>    \n",
    "    <tr><td>2</td><td>2</td></tr>    \n",
    "    <tr><td>3</td><td>3</td></tr>\n",
    "    <tr><td>Fred Barney</td><td>3</td></tr>\n",
    "    <tr><td>Barney Betty</td><td>2</td></tr>\n",
    "    <tr><td>Betty Wilma</td><td>2</td></tr>\n",
    "    <tr><td>3</td><td>4</td></tr>\n",
    "    <tr><td>Fred Barney</td><td></td></tr>\n",
    "    <tr><td>Betty Wilma</td><td></td></tr>\n",
    "    <tr><td>Barney Betty</td><td></td></tr>\n",
    "\n",
    "</table>\n",
    "\n",
    "### 문제 풀이 아이디어\n",
    "- (1) 해시를 활용한 Unin-Find 알고리즘을 이용해 문제를 풀 수 있음\n",
    "- (2) Python에서는 dictionary 자료형을 해시처럼 사용할 수 있음.\n",
    "- (3) 원소들의 연결 여부를 확인하는 알고리즘이 Union Find (합집합 찾기 알고리즘)\n"
   ]
  },
  {
   "cell_type": "code",
   "execution_count": 4,
   "metadata": {},
   "outputs": [
    {
     "name": "stdout",
     "output_type": "stream",
     "text": [
      "2232"
     ]
    }
   ],
   "source": [
    "# 맨위 부모를 찾아서 그 노드를 자기 부모로 하는게 find (재귀용법 사용)\n",
    "def find(x):\n",
    "    if x == parent[x]:\n",
    "        return x\n",
    "    else:\n",
    "        p = find(parent[x])\n",
    "        parent[x]=p\n",
    "        return parent[x]\n",
    "\n",
    "# 각각의 부모를 서로 연결하기 위해서 \n",
    "def union(x, y):\n",
    "    x = find(x)\n",
    "    y = find(y)\n",
    "    parent[y] = x\n",
    "\n",
    "# example 연습 해보기\n",
    "parent = []    \n",
    "for i in range(0, 5):\n",
    "    parent.append(i)\n",
    "# [0, 1, 2, 3, 4] 있을때 \n",
    "# 1과 4 연결 2와 4 연결\n",
    "union(1,4)\n",
    "union(2,4)\n",
    "\n",
    "# [0, 2, 2, 3, 2] 이렇게 나오게 되고, 이는 find함수를 통해 집합이 분리됨.\n",
    "for i in range(1, len(parent)):\n",
    "    print(find(i), end= '' )"
   ]
  },
  {
   "cell_type": "markdown",
   "metadata": {},
   "source": [
    "### 문제 풀이 아이디어 2\n",
    "- (4) 기존 union-find 알고리즘을 개조해서 네트워크 크기를 포함할 수 있게 함"
   ]
  },
  {
   "cell_type": "code",
   "execution_count": 5,
   "metadata": {},
   "outputs": [
    {
     "name": "stdout",
     "output_type": "stream",
     "text": [
      "2\n",
      "3\n",
      "Fred Barney\n",
      "2\n",
      "Barney Betty\n",
      "3\n",
      "Betty Wilma\n",
      "4\n",
      "3\n",
      "Fred Barney\n",
      "2\n",
      "Betty Wilma\n",
      "2\n",
      "Barney Betty\n",
      "4\n"
     ]
    }
   ],
   "source": [
    "# 맨위 부모를 찾아서 그 노드를 자기 부모로 하는게 find (재귀용법 사용)\n",
    "def find(x):\n",
    "    if x == parent[x]:\n",
    "        return x\n",
    "    else:\n",
    "        p = find(parent[x])\n",
    "        parent[x]=p\n",
    "        return parent[x]\n",
    "\n",
    "# 각각의 부모를 서로 연결하기 위해서 \n",
    "def union(x, y):\n",
    "    # 진짜 부모들을 찾고\n",
    "    x = find(x)\n",
    "    y = find(y)\n",
    "    \n",
    "    # 그 부모가 같은지 비교. 만약 다르다면, x를 parent[y]의 부모로 삼고 y의 네트워크 수를 x에 추가해줌\n",
    "    # x가 부모 y가 자식\n",
    "    if x!=y:\n",
    "        parent[y] = x\n",
    "        number[x] +=number[y]\n",
    "        \n",
    "test_case = int(input())\n",
    "for _ in range(test_case):\n",
    "    parent = dict()\n",
    "    number = dict()\n",
    "    \n",
    "    # f는 친구 관계의 수\n",
    "    f = int(input())\n",
    "    \n",
    "    for _ in range(f):\n",
    "        x, y = input().split(' ')\n",
    "        \n",
    "        # x가 부모가 없다면 (초깃값)\n",
    "        if x not in parent:\n",
    "            parent[x] = x\n",
    "            number[x] = 1\n",
    "        \n",
    "        # y가 부모가 없다면 (초깃값)\n",
    "        if y not in parent:    \n",
    "            parent[y] = y\n",
    "            number[y] = 1\n",
    "        \n",
    "        union(x, y)\n",
    "        print(number[find(x)])\n",
    "    "
   ]
  }
 ],
 "metadata": {
  "kernelspec": {
   "display_name": "Python 3",
   "language": "python",
   "name": "python3"
  },
  "language_info": {
   "codemirror_mode": {
    "name": "ipython",
    "version": 3
   },
   "file_extension": ".py",
   "mimetype": "text/x-python",
   "name": "python",
   "nbconvert_exporter": "python",
   "pygments_lexer": "ipython3",
   "version": "3.7.5"
  }
 },
 "nbformat": 4,
 "nbformat_minor": 4
}
