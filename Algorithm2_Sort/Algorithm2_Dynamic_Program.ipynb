{
 "cells": [
  {
   "cell_type": "markdown",
   "metadata": {},
   "source": [
    "## 동적 계획법 (Dynamic Programming)과 분할 정복 (Divide and Conquer)"
   ]
  },
  {
   "cell_type": "markdown",
   "metadata": {},
   "source": [
    "### 1. 정의\n",
    "- 동적계획법 (DP 라고 많이 부름)\n",
    "- 입력 크기가 작은 부분 문제들을 해결한 후, 해당 부분 문제의 해를 활용해서, 보다 큰 크기의 부분 문제를 해결, 최종적으로 전체 문제를 해결하는 알고리즘\n",
    "- 즉 상향식 접근법으로, 가장 최하위 해답을 구한 후, 이를 저장하고, 해당 결과값을 이용해서 상위 문제를 풀어가는 방식 \n",
    "- Memoization 기법을 사용함\n",
    "  - 메모이제이션 이란: 프로그램 실행 시 이전에 계산한 값을 저장하여, 다시 계산하지 않도록 하여 전체 실행 속도를 빠르게 하는 기술\n",
    "- 문제를 잘게 쪼갤 때, 부분 문제는 중복되어, 재활용됨\n",
    "  - 예: 피보나치 수열\n",
    "  \n",
    "- 분할 정복\n",
    "  - 문제를 나눌 수 없을 때까지 나누어서 각각을 풀면서 다시 합병하여 문제의 답을 얻는 알고리즘\n",
    "  - 하향식 접근법으로, 상위의 해답을 구하기 위해, 아래로 내려가면서 하위의 해답을 구하는 방식\n",
    "    - 일반적으로 재귀함수로 구현\n",
    "  - 문제를 잘게 쪼갤 때, 부분 문제는 서로 중복되지 않음\n",
    "    - 예: 병합 정렬, 퀵 정렬 등\n",
    "\n",
    "### 2. 공통점과 차이점\n",
    "- 공통점\n",
    "  - 문제를 잘게 쪼개서, 가장 작은 단위로 분할\n",
    "- 차이점\n",
    "  - 동적 계획법\n",
    "    - 부분 문제는 중복되어, 상위 문제 해결 시 재활용됨\n",
    "    - Memoization 기법 사용 (부분 문제의 해답을 저장해서 재활용하는 최적화 기법으로 사용)\n",
    "  - 분할 정복\n",
    "    - 부분 문제는 서로 중복되지 않음\n",
    "    - Memoization 기법 사용 안함\n",
    "    \n",
    "- 한줄 정리 : 동적계획법(DP)와 분할 정복 모두 작은 단위로 처리 해서 큰 단위 문제를 풀며 대신 동적계획법은 작은 문제가 서로 중복되니까 답을 기억해두고 분할 정복은 기억해두지 않음"
   ]
  },
  {
   "cell_type": "markdown",
   "metadata": {},
   "source": [
    "### 피보나치 수열\n",
    "\n",
    "<img src=\"https://www.fun-coding.org/00_Images/Fibonacci.png\" />\n",
    "\n",
    "<img src=\"https://www.fun-coding.org/00_Images/dp.png\" />\n",
    "- f(2)와 f(3)같은거를 바로 저장해두고 쓴다."
   ]
  },
  {
   "cell_type": "code",
   "execution_count": 6,
   "metadata": {},
   "outputs": [
    {
     "data": {
      "text/plain": [
       "3"
      ]
     },
     "execution_count": 6,
     "metadata": {},
     "output_type": "execute_result"
    }
   ],
   "source": [
    "def fibo(num):\n",
    "    # fibo(0) = 0 / fibo(1) = 1\n",
    "    if num<=1:\n",
    "        return num\n",
    "    else:\n",
    "        return fibo(num-1) + fibo(num-2)\n",
    "fibo(4)\n",
    "    "
   ]
  },
  {
   "cell_type": "code",
   "execution_count": 8,
   "metadata": {},
   "outputs": [
    {
     "data": {
      "text/plain": [
       "2"
      ]
     },
     "execution_count": 8,
     "metadata": {},
     "output_type": "execute_result"
    }
   ],
   "source": [
    "# 동적계획법 활용\n",
    "def fibo_dp(num):\n",
    "    cache = [0 for index in range(num+1)]\n",
    "    cache[0] = 0\n",
    "    cache[1] = 1\n",
    "    \n",
    "    # 배열로 이용됨. 원하는 num까지의 배열을 다 저장함.\n",
    "    for index in range(2, num+1):\n",
    "        cache[index] = cache[index-1] + cache[index-2]\n",
    "    return cache[num]\n",
    "    # 0 1 1 \n",
    "    \n",
    "fibo_dp(3)"
   ]
  }
 ],
 "metadata": {
  "kernelspec": {
   "display_name": "Python 3",
   "language": "python",
   "name": "python3"
  },
  "language_info": {
   "codemirror_mode": {
    "name": "ipython",
    "version": 3
   },
   "file_extension": ".py",
   "mimetype": "text/x-python",
   "name": "python",
   "nbconvert_exporter": "python",
   "pygments_lexer": "ipython3",
   "version": "3.7.5"
  }
 },
 "nbformat": 4,
 "nbformat_minor": 2
}
