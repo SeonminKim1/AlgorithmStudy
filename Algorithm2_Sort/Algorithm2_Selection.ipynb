{
 "cells": [
  {
   "cell_type": "markdown",
   "metadata": {},
   "source": [
    "### 1. 선택 정렬 (selection sort)\n",
    "- 최솟값을 찾아서 맨 앞의 데이터와 바꾸는 것.\n",
    "\n",
    "<img src=\"https://upload.wikimedia.org/wikipedia/commons/9/94/Selection-Sort-Animation.gif\" width=100>\n",
    "\n",
    "출처: https://en.wikipedia.org/wiki/Selection_sort"
   ]
  },
  {
   "cell_type": "code",
   "execution_count": 30,
   "metadata": {},
   "outputs": [],
   "source": [
    "# 최솟값을 먼저 찾은 다음에\n",
    "# 최종 최솟값과 기준 값 체인지\n",
    "def selection_sort(data):\n",
    "    for i in range(len(data)-1):\n",
    "        min = i\n",
    "        for j in range(i+1, len(data)):\n",
    "            if data[j] < data[min]:\n",
    "                min = j\n",
    "        # 젤로 작은 j 즉 min과 기존 i를 바꿈.\n",
    "        data[min], data[i] = data[i], data[min]        \n",
    "            # print(data)    \n",
    "    return data        "
   ]
  },
  {
   "cell_type": "code",
   "execution_count": 31,
   "metadata": {},
   "outputs": [
    {
     "name": "stdout",
     "output_type": "stream",
     "text": [
      "[5, 28, 3, 21, 20, 0, 1]\n",
      "[0, 1, 3, 5, 20, 21, 28]\n"
     ]
    }
   ],
   "source": [
    "import random\n",
    "data = random.sample(range(30), 7)\n",
    "count=0\n",
    "print(data)\n",
    "data = selection_sort(data)\n",
    "print(data)"
   ]
  },
  {
   "cell_type": "markdown",
   "metadata": {},
   "source": [
    "### 알고리즘 분석\n",
    "* 반복문이 두 개 O($n^2$)\n",
    "- 실제로 상세하게 계산하면, <font size=5em>$\\frac { n * (n - 1)}{ 2 }$</font>"
   ]
  }
 ],
 "metadata": {
  "kernelspec": {
   "display_name": "Python 3",
   "language": "python",
   "name": "python3"
  },
  "language_info": {
   "codemirror_mode": {
    "name": "ipython",
    "version": 3
   },
   "file_extension": ".py",
   "mimetype": "text/x-python",
   "name": "python",
   "nbconvert_exporter": "python",
   "pygments_lexer": "ipython3",
   "version": "3.7.5"
  }
 },
 "nbformat": 4,
 "nbformat_minor": 2
}
