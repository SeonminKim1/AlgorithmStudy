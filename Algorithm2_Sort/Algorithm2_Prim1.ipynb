{
 "cells": [
  {
   "cell_type": "markdown",
   "metadata": {},
   "source": [
    "## 최소 신장 트리의 이해\n",
    "### 프림 알고리즘 (Prim's algorithm)\n",
    "- 대표적인 최소 신장 트리 알고리즘\n",
    "  - Kruskal’s algorithm (크루스칼 알고리즘), Prim's algorithm (프림 알고리즘)\n",
    "- 프림 알고리즘 \n",
    "  - 시작 정점을 선택한 후, 정점에 인접한 간선중 최소 간선으로 연결된 정점을 선택하고, 해당 정점에서 다시 최소 간선으로 연결된 정점을 선택하는 방식으로 최소 신장 트리를 확장해가는 방식\n",
    "  \n",
    "- Kruskal's algorithm 과 Prim's algorithm 비교\n",
    "  - 둘다, 탐욕 알고리즘을 기초로 하고 있음 (당장 눈 앞의 최소 비용을 선택해서, 결과적으로 최적의 솔루션을 찾음)\n",
    "  - Kruskal's algorithm은 가장 가중치가 작은 간선부터 선택하면서 MST를 구함\n",
    "  - Prim's algorithm은 특정 정점에서 시작, 해당 정점에 연결된 가장 가중치가 작은 간선을 선택, 간선으로 연결된 정점들에 연결된 간선 중에서 가장 가중치가 작은 간선을 택하는 방식으로 MST를 구함"
   ]
  },
  {
   "cell_type": "markdown",
   "metadata": {},
   "source": [
    "### 프림 알고리즘 과정\n",
    "1. 임의의 정점을 선택, '연결된 노드 집합'에 삽입\n",
    "2. 선택된 정점에 연결된 간선들을 간선 리스트에 삽입\n",
    "3. 간선 리스트에서 최소 가중치를 가지는 간선부터 추출해서, \n",
    "   - 해당 간선에 연결된 인접 정점이 '연결된 노드 집합'에 이미 들어 있다면, 스킵함(cycle 발생을 막기 위함)\n",
    "   - 해당 간선에 연결된 인접 정점이 '연결된 노드 집합'에 들어 있지 않으면, 해당 간선을 선택하고, 해당 간선 정보를 '최소 신장 트리'에 삽입\n",
    "4. 추출한 간선은 간선 리스트에서 제거\n",
    "5. 간선 리스트에 더 이상의 간선이 없을 때까지 3-4번을 반복\n",
    "<img src=\"https://www.fun-coding.org/00_Images/prim1.png\" width=800>\n",
    "<img src=\"https://www.fun-coding.org/00_Images/prim2.png\" width=800>\n",
    "<img src=\"https://www.fun-coding.org/00_Images/prim3.png\" width=800>"
   ]
  },
  {
   "cell_type": "markdown",
   "metadata": {},
   "source": [
    "### 프림 알고리즘 파이썬 코드\n",
    "0. 모든 간선 정보를 저장 (**adjacent_edges**)\n",
    "1. 임의의 정점을 선택, '연결된 노드 집합(**connected_nodes**)'에 삽입\n",
    "2. 선택된 정점에 연결된 간선들을 간선 리스트(**candidate_edge_list**)에 삽입\n",
    "3. 간선 리스트(**candidate_edge_list**)에서 최소 가중치를 가지는 간선부터 추출해서,\n",
    "   - 해당 간선에 연결된 인접 정점이 '연결된 노드 집합'에 이미 들어 있다면, 스킵함(cycle 발생을 막기 위함)\n",
    "   - 해당 간선에 연결된 인접 정점이 '연결된 노드 집합'에 들어 있지 않으면, 해당 간선을 선택하고, 해당 간선 정보를 '최소 신장 트리(**mst**)'에 삽입\n",
    "     - 해당 간선에 연결된 인접 정점의 간선들 중, '연결된 노드 집합(**connected_nodes**)' 에 없는 노드와 연결된 간선들만 간선 리스트(**candidate_edge_list**) 에 삽입 \n",
    "       - '연결된 노드 집합(**connected_nodes**)' 에 있는 노드와 연결된 간선들을 간선 리스트에 삽입해도, 해당 간선은 스킵될 것이기 때문임\n",
    "       - 어차피 스킵될 간선을 간선 리스트(**candidate_edge_list**)에 넣지 않으므로 해서, 간선 리스트(**candidate_edge_list**)에서 최소 가중치를 가지는 간선부터 추출하기 위한 자료구조 유지를 위한 effort를 줄일 수 있음 (예, 최소힙 구조 사용)\n",
    "     \n",
    "     \n",
    "4. 선택된 간선은 간선 리스트에서 제거\n",
    "5. 간선 리스트에 더 이상의 간선이 없을 때까지 3-4번을 반복"
   ]
  },
  {
   "cell_type": "code",
   "execution_count": 10,
   "metadata": {},
   "outputs": [
    {
     "name": "stdout",
     "output_type": "stream",
     "text": [
      "heappush 후 [[2, 'A'], [5, 'B'], [3, 'C']]\n",
      "[2, 'A']\n",
      "[3, 'C']\n",
      "[5, 'B']\n",
      "heappop 후 []\n",
      "heapify사용 [[2, 'A'], [5, 'B'], [3, 'C']]\n"
     ]
    }
   ],
   "source": [
    "### heapq 라이브러리 / collections - defaultdict함수\n",
    "\n",
    "# heapq 라이브러리 \n",
    "# heappush로 아무렇게 나 넣더라도 heappop()으로 제대로 나옴.\n",
    "# heappush를 반복문이 아닌 한번에 해주는 것을 heapify()\n",
    "import heapq\n",
    "\n",
    "queue = []\n",
    "graph_data = [[2, 'A'], [5, 'B'], [3, 'C']]\n",
    "graph_data2 = graph_data\n",
    "# ehapq.push()\n",
    "for edge in graph_data:\n",
    "    heapq.heappush(queue, edge)\n",
    "print('heappush 후', queue)\n",
    "\n",
    "for index in range(len(queue)):\n",
    "    print (heapq.heappop(queue))\n",
    "print ('heappop 후', queue)\n",
    "\n",
    "\n",
    "heapq.heapify(graph_data2)\n",
    "print ('heapify사용', graph_data2)\n",
    "\n",
    "# collections 라이브러리의 defaultdict 함수 활용하기\n",
    "# key에 대한 value를 지정하지 않았을 시, 빈 리스트로 초기화하기\n",
    "# 미리 초기화 해주는 것\n",
    "from collections import defaultdict\n",
    "\n",
    "list_dict = defaultdict(list) # defaultdict(float), (int), (set)\n",
    "print (list_dict['key1'])"
   ]
  },
  {
   "cell_type": "code",
   "execution_count": 3,
   "metadata": {},
   "outputs": [
    {
     "name": "stdout",
     "output_type": "stream",
     "text": [
      "defaultdict(<class 'list'>, {})\n",
      "defaultdict(<class 'list'>, {'A': [(7, 'A', 'B'), (5, 'A', 'D')], 'B': [(7, 'B', 'A'), (8, 'B', 'C'), (9, 'B', 'D'), (7, 'B', 'E')], 'D': [(5, 'D', 'A'), (9, 'D', 'B'), (7, 'D', 'E'), (6, 'D', 'F')], 'C': [(8, 'C', 'B'), (5, 'C', 'E')], 'E': [(7, 'E', 'B'), (5, 'E', 'C'), (7, 'E', 'D'), (8, 'E', 'F'), (9, 'E', 'G')], 'F': [(6, 'F', 'D'), (8, 'F', 'E'), (11, 'F', 'G')], 'G': [(9, 'G', 'E'), (11, 'G', 'F')]})\n"
     ]
    }
   ],
   "source": [
    "# 프림 알고리즘\n",
    "# edges 리스트\n",
    "myedges = [\n",
    "    (7, 'A', 'B'), (5, 'A', 'D'),\n",
    "    (8, 'B', 'C'), (9, 'B', 'D'), (7, 'B', 'E'),\n",
    "    (5, 'C', 'E'),\n",
    "    (7, 'D', 'E'), (6, 'D', 'F'),\n",
    "    (8, 'E', 'F'), (9, 'E', 'G'),\n",
    "    (11, 'F', 'G')\n",
    "]\n",
    "\n",
    "from collections import defaultdict\n",
    "from heapq import *\n",
    "\n",
    "def prim(start_node, edges):\n",
    "    \n",
    "# 0. 모든 간선 노드 정보를 저장\n",
    "    adjacent_edges = defaultdict(list) # list형을 넣을 빈 dict 생성\n",
    "    print(adjacent_edges)\n",
    "    \n",
    "    # edge node들 간선 정보 각 노드별로 구분 저장\n",
    "    for weight, n1, n2 in edges:\n",
    "        adjacent_edges[n1].append((weight, n1, n2))\n",
    "        adjacent_edges[n2].append((weight, n2, n1))\n",
    "    print(adjacent_edges)\n",
    "\n",
    "prim('A', myedges)\n"
   ]
  },
  {
   "cell_type": "code",
   "execution_count": 7,
   "metadata": {},
   "outputs": [
    {
     "data": {
      "text/plain": [
       "[(5, 'A', 'D'),\n",
       " (6, 'D', 'F'),\n",
       " (7, 'A', 'B'),\n",
       " (7, 'B', 'E'),\n",
       " (5, 'E', 'C'),\n",
       " (9, 'E', 'G')]"
      ]
     },
     "execution_count": 7,
     "metadata": {},
     "output_type": "execute_result"
    }
   ],
   "source": [
    "from collections import defaultdict\n",
    "from heapq import *\n",
    "# heapq.heapify()함수를 통해 리스트 데이터를 heap 형태로 한 번에 변환할 수 있음\n",
    "\n",
    "def prim(start_node, edges):\n",
    "    mst = list()\n",
    "    adjacent_edges = defaultdict(list)\n",
    "    for weight, n1, n2 in edges:\n",
    "        adjacent_edges[n1].append((weight, n1, n2))\n",
    "        adjacent_edges[n2].append((weight, n2, n1))\n",
    "\n",
    "    # 연결된 노드집합들 (ex- 처음에는 start_node만 들어있음)\n",
    "    connected_nodes = set(start_node)\n",
    "    \n",
    "    # start_node(선택된 정점)에 연결된 간선들.\n",
    "    candidate_edge_list = adjacent_edges[start_node]\n",
    "    # 간선중에 가장 낮은 값인 것 추출\n",
    "    heapify(candidate_edge_list)\n",
    "    # 간선 리스트가 다 돌때까지\n",
    "    while candidate_edge_list:\n",
    "        # 간선들 중 가장 가중치가 작은 것.뽑아냄.\n",
    "        weight, n1, n2 = heappop(candidate_edge_list)\n",
    "        \n",
    "        # 해당 도착 노드가 아직 지나간 노드가 아니면 해당 노드 추가 및 노드의 간선들 추가\n",
    "        if n2 not in connected_nodes:\n",
    "            connected_nodes.add(n2)\n",
    "            mst.append((weight, n1, n2))\n",
    "            \n",
    "            for edge in adjacent_edges[n2]:\n",
    "                # 연결되지 않는 노드들만. ㅇㅇ 간선 추가해주기\n",
    "                if edge[2] not in connected_nodes:\n",
    "                    heappush(candidate_edge_list, edge)\n",
    "\n",
    "    return mst\n",
    "\n",
    "# 최소 신장트리 간선들 리스트\n",
    "prim('A', myedges)"
   ]
  },
  {
   "cell_type": "markdown",
   "metadata": {},
   "source": [
    "### 일반 프림 알고리즘 시간 복잡도\n",
    "  - 최악의 경우, while 구문에서 모든 간선에 대해 반복하고, 최소 힙 구조를 사용하므로 O($ElogE$) 시간 복잡도를 가짐"
   ]
  }
 ],
 "metadata": {
  "kernelspec": {
   "display_name": "Python 3",
   "language": "python",
   "name": "python3"
  },
  "language_info": {
   "codemirror_mode": {
    "name": "ipython",
    "version": 3
   },
   "file_extension": ".py",
   "mimetype": "text/x-python",
   "name": "python",
   "nbconvert_exporter": "python",
   "pygments_lexer": "ipython3",
   "version": "3.7.5"
  }
 },
 "nbformat": 4,
 "nbformat_minor": 2
}
