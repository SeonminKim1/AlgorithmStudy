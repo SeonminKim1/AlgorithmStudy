{
 "cells": [
  {
   "cell_type": "markdown",
   "metadata": {},
   "source": [
    "### 퀵 정렬 (quick sort) \n",
    "* 기준점(pivot 이라고 부름)을 정해서, 기준점보다 작은 데이터는 왼쪽(left), 큰 데이터는 오른쪽(right) 으로 모으는 함수를 작성\n",
    "* 각 왼쪽(left), 오른쪽(right)은 재귀용법을 사용해서 다시 동일 함수를 호출하여 위 작업을 반복함\n",
    "* 함수는 왼쪽(left) + 기준점(pivot) + 오른쪽(right) 을 리턴함\n"
   ]
  },
  {
   "cell_type": "code",
   "execution_count": 3,
   "metadata": {},
   "outputs": [
    {
     "name": "stdout",
     "output_type": "stream",
     "text": [
      "[33, 17, 13, 26, 2, 23, 38, 34, 44, 29]\n",
      "[2, 13, 17, 23, 26, 29, 33, 34, 38, 44]\n"
     ]
    }
   ],
   "source": [
    "def qsort(data):\n",
    "    if len(data) <=1:\n",
    "        return data\n",
    "    \n",
    "    left, right = list(), list()\n",
    "    pivot = data[0]\n",
    "    \n",
    "    for index in range(1,len(data)):\n",
    "        if pivot>data[index]:\n",
    "            left.append(data[index])\n",
    "        else:\n",
    "            right.append(data[index])\n",
    "    return qsort(left) + [pivot] + qsort(right)\n",
    "\n",
    "import random\n",
    "data_list = random.sample(range(50), 10)\n",
    "print(data_list)\n",
    "q_data_list = qsort(data_list)\n",
    "print(q_data_list)"
   ]
  },
  {
   "cell_type": "code",
   "execution_count": 5,
   "metadata": {},
   "outputs": [
    {
     "name": "stdout",
     "output_type": "stream",
     "text": [
      "[2, 13, 17, 23, 26, 29, 33, 34, 38, 44]\n"
     ]
    }
   ],
   "source": [
    "# list comprehension을 사용해서 더 깔끔하게 작성해보기\n",
    "\n",
    "def qsort2(data):\n",
    "    if len(data)<=1:\n",
    "        return data\n",
    "    \n",
    "    pivot = data[0]\n",
    "    \n",
    "    left = [item for item in data[1:] if pivot > item] # for문 반복중에 조건이 맞는 것들만 item에 넣어준다\n",
    "    right = [item for item in data[1:] if pivot <= item] # for문 중에 조건이 맞는 것들만 item에 넣어준다.\n",
    "    \n",
    "    return qsort(left) + [pivot] + qsort(right)\n",
    "\n",
    "import random\n",
    "q2_data_list = qsort2(data_list)\n",
    "print(q2_data_list)"
   ]
  },
  {
   "cell_type": "markdown",
   "metadata": {},
   "source": [
    "### 알고리즘 분석\n",
    "* <font color='#BF360C'>병합정렬과 유사, 시간복잡도는 O(n log n) !!!!! </font>\n",
    "  - 단, 최악의 경우 \n",
    "    - 맨 처음 pivot이 가장 크거나, 가장 작으면\n",
    "    - 모든 데이터를 비교하는 상황이 나옴\n",
    "    - O($n^2$)\n",
    "<img src=\"https://www.fun-coding.org/00_Images/quicksortworks.jpg\" />\n"
   ]
  }
 ],
 "metadata": {
  "kernelspec": {
   "display_name": "Python 3",
   "language": "python",
   "name": "python3"
  },
  "language_info": {
   "codemirror_mode": {
    "name": "ipython",
    "version": 3
   },
   "file_extension": ".py",
   "mimetype": "text/x-python",
   "name": "python",
   "nbconvert_exporter": "python",
   "pygments_lexer": "ipython3",
   "version": "3.7.5"
  }
 },
 "nbformat": 4,
 "nbformat_minor": 2
}
