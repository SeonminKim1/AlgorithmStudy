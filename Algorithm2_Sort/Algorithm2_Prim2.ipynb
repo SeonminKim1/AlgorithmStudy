{
 "cells": [
  {
   "cell_type": "markdown",
   "metadata": {},
   "source": [
    "### 개선된 프림 알고리즘 시간 복잡도\n",
    "- 가장 큰 차이는 간선갯수만큼 반복하는 것(기존 프림)이 아닌 개선된 프림알고리즘은 노드를 중심으로(개선프림) 반복 하는 것이다. (지금 연결된 노드를 중심으로 갱신해 나가면서 진행하는 방식)\n",
    "- 간선이 아닌 노드를 중심으로 우선순위 큐를 적용하는 방식\n",
    "  - 초기화 - 시작점의 key값은 0, 이외의 정점들의 key값은 무한대로 놓음. 또한 모든 정점:key 값은 우선순위 큐에 넣음\n",
    "  - 우선순위 큐에서 가장 key값이 적은 정점:key를 추출한 후(pop 하므로 해당 정점:key 정보는 우선순위 큐에서 삭제됨) - pop()\n",
    "  - 해당 정점의 인접한 정점들에 대해 key 값과 연결된 가중치 값을 비교하여 key값이 작으면 해당 정점:key 값을 갱신\n",
    "  - 정점의 key 값 갱신시, 우선순위 큐는 최소 key값을 가지는 정점:key 를 루트노드로 올려놓도록 재구성함 (decrease key 로직이라고 부름) - heapdict라이브러리를 통해 heap에서 최솟값이 맨 앞에 pop될수 있게 되는 기능\n",
    "    \n",
    "- 개선된 프림 알고리즘 구현시 고려 사항\n",
    "  - 우선순위 큐(최소힙) 구조에서, 이미 들어가 있는 데이터의 값 변경시, 최소값을 가지는 데이터를 루트노드로 올려놓도록 재구성하는 기능이 필요함\n",
    "  - 구현 복잡도를 줄이기 위해, heapdict 라이브러리를 통해, 해당 기능을 간단히 구현"
   ]
  },
  {
   "cell_type": "code",
   "execution_count": 2,
   "metadata": {},
   "outputs": [
    {
     "name": "stdout",
     "output_type": "stream",
     "text": [
      "MST: [['A', 'A', 0], ['A', 'D', 5], ['D', 'F', 6], ['A', 'B', 7], ['D', 'E', 7], ['E', 'C', 5], ['E', 'G', 9]]\n",
      "Total Weight: 39\n"
     ]
    }
   ],
   "source": [
    "from heapdict import heapdict\n",
    "\n",
    "def prim(graph, start):\n",
    "    # pi -> ex) 'A':{} 이렇게 가질수있게 dict()로\n",
    "    mst, keys, pi, total_weight = list(), heapdict(), dict(), 0\n",
    "    \n",
    "    # (1) ndoe들 먼저 초기화\n",
    "    for node in graph.keys():\n",
    "        keys[node] = float('inf')\n",
    "        pi[node] = None\n",
    "    keys[start], pi[start] = 0, start\n",
    "\n",
    "    # 정점들 있을 때 (노드의 갯수만큼 진행될 것)\n",
    "    # V개\n",
    "    # (2) \n",
    "    while keys:\n",
    "        # 맨 앞에 있는거 빼고 \n",
    "        # 여기서 Vlog(V)개로\n",
    "        current_node, current_key = keys.popitem()\n",
    "        # 최소 노드들\n",
    "        mst.append([pi[current_node], current_node, current_key])\n",
    "        total_weight += current_key\n",
    "        \n",
    "        # (3) 최소 노드가 맨위로 올라오게 재구성\n",
    "        for adjacent, weight in mygraph[current_node].items():\n",
    "            # 선택되지 않은 키값인지 확인하고, 값이 더작으면 key값 업데이트.\n",
    "            if adjacent in keys and weight < keys[adjacent]:\n",
    "                keys[adjacent] = weight\n",
    "                pi[adjacent] = current_node\n",
    "    return mst, total_weight\n",
    "\n",
    "mygraph = {\n",
    "    'A': {'B': 7, 'D': 5},\n",
    "    'B': {'A': 7, 'D': 9, 'C': 8, 'E': 7},\n",
    "    'C': {'B': 8, 'E': 5},\n",
    "    'D': {'A': 5, 'B': 9, 'E': 7, 'F': 6},\n",
    "    'E': {'B': 7, 'C': 5, 'D': 7, 'F': 8, 'G': 9},\n",
    "    'F': {'D': 6, 'E': 8, 'G': 11},\n",
    "    'G': {'E': 9, 'F': 11}    \n",
    "}\n",
    "mst, total_weight = prim(mygraph, 'A')\n",
    "print ('MST:', mst)\n",
    "print ('Total Weight:', total_weight)"
   ]
  },
  {
   "cell_type": "markdown",
   "metadata": {},
   "source": [
    "### 개선된 프림 알고리즘의 시간 복잡도: $ O(ElogV) $\n",
    "- 최초 key 생성 시간 복잡도: $ O(V) $\n",
    "- while 구문과 keys.popitem() 의 시간 복잡도는 $ O(VlogV) $\n",
    "  - while 구문은 V(노드 갯수) 번 실행됨\n",
    "  - heap 에서 최소 key 값을 가지는 노드 정보 추출 시(pop)의 시간 복잡도: $ O(logV) $\n",
    "- for 구문의 총 시간 복잡도는 $ O(ElogV) $\n",
    "  - for 구문은 while 구문 반복시에 결과적으로 총 최대 간선의 수 E만큼 실행 가능 $ O(E) $\n",
    "  - for 구문 안에서 key값 변경시마다 heap 구조를 변경해야 하며, heap 에는 최대 V 개의 정보가 있으므로 $ O(logV) $\n",
    "    > 일반적인 heap 자료 구조 자체에는 본래 heap 내부의 데이터 우선순위 변경시, 최소 우선순위 데이터를 루트노드로 만들어주는 로직은 없음. 이를 decrease key 로직이라고 부름, 해당 로직은 heapdict 라이브러리를 활용해서 간단히 적용가능\n",
    "    \n",
    "    - 따라서 총 시간 복잡도는 $ O(V + VlogV + ElogV) $ 이며, !! 가장 큰값이 전체를 대신함.\n",
    "  - O(V)는 전체 시간 복잡도에 큰 영향을 미치지 않으므로 삭제,\n",
    "  - E > V 이므로 (최대 $ V^2 = E $ 가 될 수 있음), $ O((V + E)logV) $ 는 간단하게 $ O(ElogV) $ 로 나타낼 수 있음"
   ]
  }
 ],
 "metadata": {
  "kernelspec": {
   "display_name": "Python 3",
   "language": "python",
   "name": "python3"
  },
  "language_info": {
   "codemirror_mode": {
    "name": "ipython",
    "version": 3
   },
   "file_extension": ".py",
   "mimetype": "text/x-python",
   "name": "python",
   "nbconvert_exporter": "python",
   "pygments_lexer": "ipython3",
   "version": "3.7.5"
  }
 },
 "nbformat": 4,
 "nbformat_minor": 2
}
