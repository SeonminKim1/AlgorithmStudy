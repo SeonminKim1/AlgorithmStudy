{
 "cells": [
  {
   "cell_type": "markdown",
   "metadata": {},
   "source": [
    "## 버블 정렬\n",
    "### 두 인접한 데이터를 비교해서, 정렬 하는 방법\n",
    "\n",
    "<img src=\"https://upload.wikimedia.org/wikipedia/commons/c/c8/Bubble-sort-example-300px.gif\" width=600/>\n",
    "\n",
    "> 출처: https://en.wikipedia.org/wiki/Bubble_sort"
   ]
  },
  {
   "cell_type": "markdown",
   "metadata": {},
   "source": [
    "### 알고리즘 구현\n",
    "- n개의 리스트가 있는 경우 최대 n-1번의 로직을 적용한다.\n",
    "- 로직을 1번 적용할 때마다 가장 큰 숫자가 뒤에서부터 1개씩 결정된다.\n",
    "- 로직이 경우에 따라 일찍 끝날 수도 있다. 따라서 로직을 적용할 때 한 번도 데이터가 교환된 적이 없다면 이미 정렬된 상태이므로 더 이상 로직을 반복 적용할 필요가 없다.\n",
    "<img src=\"https://www.fun-coding.org/00_Images/bubblealgo.png\" />"
   ]
  },
  {
   "cell_type": "code",
   "execution_count": 30,
   "metadata": {},
   "outputs": [
    {
     "name": "stdout",
     "output_type": "stream",
     "text": [
      "[5, 2, 3, 1, 10, 9, 8, 7]\n",
      "[1, 2, 3, 5, 7, 8, 9, 10]\n"
     ]
    }
   ],
   "source": [
    "# 버블정렬 알고리즘\n",
    "\n",
    "# 정렬될게 하나도 없으면 체크하기 위한 변수\n",
    "swap = True\n",
    "def bubblesort(data):\n",
    "    for j in range(0, len(data) -1):\n",
    "        for i in range(len(data) -1 -j):\n",
    "            if data[i] > data[i+1]:\n",
    "                data[i], data[i+1] = data[i+1], data[i]\n",
    "                swap = True\n",
    "        # 정렬될게 하나도 없으면 False 및 알고리즘 종료\n",
    "        if swap==False:\n",
    "            break\n"
   ]
  },
  {
   "cell_type": "code",
   "execution_count": 36,
   "metadata": {},
   "outputs": [
    {
     "name": "stdout",
     "output_type": "stream",
     "text": [
      "[44, 40, 28, 39, 9, 8, 19, 23, 16, 48]\n",
      "[8, 9, 16, 19, 23, 28, 39, 40, 44, 48]\n"
     ]
    }
   ],
   "source": [
    "import random\n",
    "data = random.sample(range(50), 10) \n",
    "print(data)\n",
    "bubblesort(data)\n",
    "print(data)"
   ]
  },
  {
   "cell_type": "markdown",
   "metadata": {},
   "source": [
    "### 알고리즘 분석\n",
    "* 반복문이 두 개 O($n^2$)\n",
    "  - 최악의 경우, <font size=5em>$\\frac { n * (n - 1)}{ 2 }$</font>\n",
    "* 완전 정렬이 되어 있는 상태라면 최선은 O(n)"
   ]
  }
 ],
 "metadata": {
  "kernelspec": {
   "display_name": "Python 3",
   "language": "python",
   "name": "python3"
  },
  "language_info": {
   "codemirror_mode": {
    "name": "ipython",
    "version": 3
   },
   "file_extension": ".py",
   "mimetype": "text/x-python",
   "name": "python",
   "nbconvert_exporter": "python",
   "pygments_lexer": "ipython3",
   "version": "3.7.5"
  }
 },
 "nbformat": 4,
 "nbformat_minor": 2
}
