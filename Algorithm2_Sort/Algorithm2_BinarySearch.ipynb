{
 "cells": [
  {
   "cell_type": "markdown",
   "metadata": {},
   "source": [
    "### 1. 이진 탐색 (Binary Search) 이란?\n",
    "* 탐색할 자료를 둘로 나누어 해당 데이터가 있을만한 곳을 탐색하는 방법"
   ]
  },
  {
   "cell_type": "markdown",
   "metadata": {},
   "source": [
    "### 이진 탐색의 이해 (순차 탐색과 비교하며 이해하기)\n",
    "\n",
    "<img src=\"https://www.mathwarehouse.com/programming/images/binary-vs-linear-search/binary-and-linear-search-animations.gif\">\n",
    "\n",
    "* [저작자] by penjee.com [이미지 출처](https://blog.penjee.com/binary-vs-linear-search-animated-gifs)\n"
   ]
  },
  {
   "cell_type": "markdown",
   "metadata": {},
   "source": [
    "### 분할 정복 알고리즘과 이진 탐색\n",
    "- 분할 정복 알고리즘 (Divide and Conquer)\n",
    "- Divide: 문제를 하나 또는 둘 이상으로 나눈다.\n",
    "- Conquer: 나눠진 문제가 충분히 작고, 해결이 가능하다면 해결하고, 그렇지 않다면 다시 나눈다.\n",
    "- 분할정복은 거의 재귀 함수를 이용하긴 함\n",
    "\n",
    "- 이진 탐색\n",
    "- Divide: 리스트를 두 개의 서브 리스트로 나눈다.\n",
    "- Comquer\n",
    "  - 검색할 숫자 (search) > 중간값 이면, 뒷 부분의 서브 리스트에서 검색할 숫자를 찾는다.\n",
    "  - 검색할 숫자 (search) < 중간값 이면, 앞 부분의 서브 리스트에서 검색할 숫자를 찾는다.  "
   ]
  },
  {
   "cell_type": "code",
   "execution_count": 11,
   "metadata": {},
   "outputs": [
    {
     "name": "stdout",
     "output_type": "stream",
     "text": [
      "Data: [1, 3, 10, 13, 18, 37, 39, 42, 45, 46]\n",
      "[1, 3, 10, 13, 18, 37, 39, 42, 45, 46]\n",
      "[1, 3, 10, 13, 18]\n",
      "[10, 13, 18]\n",
      "[13, 18]\n",
      "[18]\n"
     ]
    },
    {
     "data": {
      "text/plain": [
       "False"
      ]
     },
     "execution_count": 11,
     "metadata": {},
     "output_type": "execute_result"
    }
   ],
   "source": [
    "# 이진 탐색 (내가 찾는 숫자가 어딨는지?)\n",
    "def binary_search(data, search):\n",
    "    print(data) # binary_search 출력되는 과정 출력\n",
    "    # data가 1개밖에 없을 때 내가 찾는 데이터가 그 데이터가 맞을 때\n",
    "    if len(data) == 1 and search == data[0]:\n",
    "        return True\n",
    "    \n",
    "    # data가 1개 밖에 없는데 내가 찾는 데이터가 아닌경우 그냥 False 리턴\n",
    "    if len(data) == 1 and search != data[0]:\n",
    "        return False\n",
    "    \n",
    "    # data가 0일 때\n",
    "    if len(data) == 0:\n",
    "        return False\n",
    "    \n",
    "    pivot = len(data) // 2\n",
    "    \n",
    "    # 내가 찾는 데이터 일때\n",
    "    if search == data[pivot]:\n",
    "        return True\n",
    "    \n",
    "    else : \n",
    "        if search >data[pivot]:\n",
    "            return binary_search(data[pivot:], search)\n",
    "        else:\n",
    "            return binary_search(data[:pivot], search)\n",
    "    \n",
    "import random\n",
    "data_list = random.sample(range(50), 10)\n",
    "data_list.sort() # 정렬된 data_list로\n",
    "\n",
    "print('Data:', data_list)\n",
    "binary_search(data_list, 33)"
   ]
  },
  {
   "cell_type": "markdown",
   "metadata": {},
   "source": [
    "### 알고리즘 분석\n",
    "* n개의 리스트를 매번 2로 나누어 1이 될 때까지 비교연산을 k회 진행\n",
    "- <font size=4em>n X $\\frac { 1 }{ 2 }$ X $\\frac { 1 }{ 2 }$ X $\\frac { 1 }{ 2 }$ ... = 1</font>\n",
    "- <font size=4em>n X $\\frac { 1 }{ 2 }^k$ = 1</font>\n",
    "- <font size=4em>n = $2^k$ = $log_2 n$ = $log_2 2^k$</font>\n",
    "- <font size=4em>$log_2 n$ = k</font>\n",
    "- 빅 오 표기법으로는 k + 1 이 결국 최종 시간 복잡도임 (1이 되었을 때도, 비교연산을 한번 수행)\n",
    "  - 결국 O($log_2 n$ + 1) 이고, 2와 1, 상수는 삭제 되므로, O($log n$)"
   ]
  }
 ],
 "metadata": {
  "kernelspec": {
   "display_name": "Python 3",
   "language": "python",
   "name": "python3"
  },
  "language_info": {
   "codemirror_mode": {
    "name": "ipython",
    "version": 3
   },
   "file_extension": ".py",
   "mimetype": "text/x-python",
   "name": "python",
   "nbconvert_exporter": "python",
   "pygments_lexer": "ipython3",
   "version": "3.7.5"
  }
 },
 "nbformat": 4,
 "nbformat_minor": 2
}
