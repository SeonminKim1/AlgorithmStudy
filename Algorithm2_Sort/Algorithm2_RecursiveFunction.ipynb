{
 "cells": [
  {
   "cell_type": "markdown",
   "metadata": {},
   "source": [
    "### 재귀 용법 (recursive call, 재귀 호출)\n",
    "* 함수 안에서 동일한 함수를 호출하는 형태\n",
    "\n",
    "### 시간 복잡도와 공간 복잡도\n",
    "* factorial(n) 은 n - 1 번의 factorial() 함수를 호출해서, 곱셈을 함 \n",
    "  - 일종의 n-1번 반복문을 호출한 것과 동일\n",
    "  - factorial() 함수를 호출할 때마다, 지역변수 n 이 생성됨\n",
    "\n",
    "* 시간 복잡도/공간 복잡도는 O(n-1) 이므로 결국, 둘 다 O(n)\n",
    "\n",
    "### 재귀 호출은 스택의 전형적인 예\n",
    "* 함수는 내부적오르 스택처럼 관리된다.\n",
    "\n",
    "<img src=\"https://www.fun-coding.org/00_Images/recursivecall.png\" />\n",
    "\n",
    "> 참고: 파이썬에서 재귀 함수는 깊이가(한번에 호출되는...) 1000회 이하가 되어야 함"
   ]
  },
  {
   "cell_type": "code",
   "execution_count": null,
   "metadata": {},
   "outputs": [],
   "source": [
    "# 일반적인 형태1 \n",
    "# if return 함수 / else return \n",
    "def function(입력): \n",
    "    if 입력 > 일정값: # 입력이 일정 값 이상이면\n",
    "        return function(입력 - 1) # 입력보다 작은 값\n",
    "    else:\n",
    "        return 일정값, 입력값, 또는 특정값 # 재귀 호출 종료\n",
    "    \n",
    "# 일반적인 형태2 \n",
    "# if return / return 값 + 함수\n",
    "def sum_list(data):\n",
    "    if len(data) <=1:\n",
    "        return data[0]\n",
    "    return data[0] + sum_list(data[1:])\n"
   ]
  },
  {
   "cell_type": "code",
   "execution_count": 3,
   "metadata": {},
   "outputs": [
    {
     "data": {
      "text/plain": [
       "3628800"
      ]
     },
     "execution_count": 3,
     "metadata": {},
     "output_type": "execute_result"
    }
   ],
   "source": [
    "# 예제 factorial 구하기\n",
    "def factorial(num):\n",
    "    if num > 1:\n",
    "        return num * factorial(num - 1)\n",
    "    else:\n",
    "        return num\n",
    "    \n",
    "factorial(10)"
   ]
  },
  {
   "cell_type": "code",
   "execution_count": 8,
   "metadata": {},
   "outputs": [
    {
     "name": "stdout",
     "output_type": "stream",
     "text": [
      "35\n"
     ]
    }
   ],
   "source": [
    "# 예제 리스트 합구하기\n",
    "def sum_list(data):\n",
    "    if len(data) <=1:\n",
    "        return data[0]\n",
    "    return data[0] + sum_list(data[1:])\n",
    "\n",
    "ex_list = [10, 4, 9, 3, 2, 7]\n",
    "print(sum_list(ex_list))"
   ]
  },
  {
   "cell_type": "markdown",
   "metadata": {},
   "source": [
    "<div class=\"alert alert-block alert-warning\">\n",
    "회문(palindrome)은 순서를 거꾸로 읽어도 제대로 읽은 것과 같은 단어와 문장을 의미함<br>\n",
    "회문을 판별할 수 있는 함수를 리스트 슬라이싱을 활용해서 만드세요\n",
    "<img src=\"https://www.fun-coding.org/00_Images/palindrome.png\" width=200/>\n",
    "</div>\n",
    "\n",
    "참고 - 리스트 슬라이싱\n",
    "- string = 'Dave' \n",
    "- string[-1] --> e\n",
    "- string[0] --> D\n",
    "- string[1:-1] --> av  <- 중요!!!!!\n",
    "- string[:-1] --> Dav"
   ]
  },
  {
   "cell_type": "code",
   "execution_count": 9,
   "metadata": {},
   "outputs": [],
   "source": [
    "# 예제 회문을 판별할 수 있는 재귀함수\n",
    "# ex MOTOR -> ROTOM (x) / level -> level (o)\n",
    "\n",
    "# 맨 왼쪽 맨 오른쪽 글자를 계속 줄여나가는 것\n",
    "def palindrome(string):\n",
    "    # 문자열으 길이가 1일 때\n",
    "    if len(string) <= 1:\n",
    "        return True\n",
    "    \n",
    "    # 맨 왼쪽 오른쪽이 같으면 다음 왼쪽 오른쪽 진행\n",
    "    if string[0] == string[-1]:\n",
    "        return palindrome(string[1:-1])\n",
    "    \n",
    "    # 회문이 아니다!\n",
    "    else:\n",
    "        return False"
   ]
  },
  {
   "cell_type": "code",
   "execution_count": 15,
   "metadata": {},
   "outputs": [
    {
     "name": "stdout",
     "output_type": "stream",
     "text": [
      "3\n",
      "10\n",
      "5\n",
      "16\n",
      "8\n",
      "4\n",
      "2\n",
      "1\n"
     ]
    }
   ],
   "source": [
    "# 1, 정수 n에 대해\n",
    "# 2. n이 홀수이면 3 X n + 1 을 하고,\n",
    "# 3. n이 짝수이면 n 을 2로 나눕니다.\n",
    "# 4. 이렇게 계속 진행해서 n 이 결국 1이 될 때까지 2와 3의 과정을 반복합니다.\n",
    "# 1이 되는 과정을 모두 출력하는 함수 만들기\n",
    "def int_func(n):\n",
    "    print(n)\n",
    "    if n==1:\n",
    "        return\n",
    "    elif n%2==1:\n",
    "        int_func(3 * n +1)\n",
    "    else :\n",
    "        int_func(int(n/2))\n",
    "\n",
    "int_func(3)"
   ]
  },
  {
   "cell_type": "markdown",
   "metadata": {},
   "source": [
    "<div class=\"alert alert-block alert-warning\">\n",
    "<strong><font color=\"blue\" size=\"4em\">프로그래밍 연습</font></strong><br>\n",
    "<pre>\n",
    "문제: 정수 4를 1, 2, 3의 조합으로 나타내는 방법은 다음과 같이 총 7가지가 있음\n",
    "1+1+1+1\n",
    "1+1+2\n",
    "1+2+1\n",
    "2+1+1\n",
    "2+2\n",
    "1+3\n",
    "3+1\n",
    "정수 n이 입력으로 주어졌을 때, n을 1, 2, 3의 합으로 나타낼 수 있는 방법의 수를 구하시오\n",
    "</pre>    \n",
    "\n",
    "힌트: 정수 n을 만들 수 있는 경우의 수를 리턴하는 함수를 f(n) 이라고 하면,<br>\n",
    "f(n)은 f(n-1) + f(n-2) + f(n-3) 과 동일하다는 패턴 찾기<br>\n",
    "출처: ACM-ICPC > Regionals > Asia > Korea > Asia Regional - Taejon 2001 \n",
    "</div>"
   ]
  },
  {
   "cell_type": "code",
   "execution_count": 18,
   "metadata": {},
   "outputs": [
    {
     "data": {
      "text/plain": [
       "13"
      ]
     },
     "execution_count": 18,
     "metadata": {},
     "output_type": "execute_result"
    }
   ],
   "source": [
    "# 직접 펜으로 한번 짜볼 것\n",
    "# 1 2 4 7 13 24\n",
    "def func(data):\n",
    "    if data ==1 : \n",
    "        return 1\n",
    "    elif data ==2:\n",
    "        return 2\n",
    "    elif data==3:\n",
    "        return 4\n",
    "    return func(data-1) + func(data-2) + func(data-3)\n",
    "\n",
    "func(5)"
   ]
  }
 ],
 "metadata": {
  "kernelspec": {
   "display_name": "Python 3",
   "language": "python",
   "name": "python3"
  },
  "language_info": {
   "codemirror_mode": {
    "name": "ipython",
    "version": 3
   },
   "file_extension": ".py",
   "mimetype": "text/x-python",
   "name": "python",
   "nbconvert_exporter": "python",
   "pygments_lexer": "ipython3",
   "version": "3.7.5"
  }
 },
 "nbformat": 4,
 "nbformat_minor": 2
}
