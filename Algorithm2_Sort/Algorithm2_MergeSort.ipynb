{
 "cells": [
  {
   "cell_type": "markdown",
   "metadata": {},
   "source": [
    "### 병합 정렬 (merge sort) \n",
    "* 재귀용법을 활용한 정렬 알고리즘 (분할 정복 방법 중 하나)\n",
    "  1. 리스트를 절반으로 잘라 비슷한 크기의 작은 리스트들로 나눈다.\n",
    "  2. 각 부분 리스트를 재귀적으로 합병 정렬을 이용해 정렬한다.\n",
    "  3. 두 부분 리스트를 다시 하나의 정렬된 리스트로 합병한다.\n",
    "\n",
    "<img src=\"https://upload.wikimedia.org/wikipedia/commons/c/cc/Merge-sort-example-300px.gif\" width=500/>\n",
    "\n",
    "출처: [위키피디아](https://ko.wikipedia.org/wiki/%ED%95%A9%EB%B3%91_%EC%A0%95%EB%A0%AC)\n",
    "\n",
    "### 알고리즘 이해\n",
    "- 예: data_list = [1, 9, 3, 2]\n",
    "- 먼저 [1, 9], [3, 2] 로 나누고\n",
    "- 다시 앞 부분은 [1], [9] 로 나누고\n",
    "- 다시 정렬해서 합친다. [1, 9]\n",
    "- 다음 [3, 2] 는 [3], [2] 로 나누고\n",
    "- 다시 정렬해서 합친다 [2, 3]\n",
    "- 이제 [1, 9] 와 [2, 3]을 합친다.\n",
    "  - 1 < 2 이니 [1]\n",
    "  - 9 > 2 이니 [1, 2]\n",
    "  - 9 > 3 이니 [1, 2, 3]\n",
    "  - 9 밖에 없으니, [1, 2, 3, 9]\n",
    "      \n",
    "- 함수가 두개 필요. Split하는 함수와 Merge하는 함수"
   ]
  },
  {
   "cell_type": "code",
   "execution_count": 9,
   "metadata": {},
   "outputs": [
    {
     "data": {
      "text/plain": [
       "[8, 12, 20, 26, 43, 63, 78, 91, 93, 97]"
      ]
     },
     "execution_count": 9,
     "metadata": {},
     "output_type": "execute_result"
    }
   ],
   "source": [
    "\n",
    "def merge(left, right):\n",
    "    merge_list = list()\n",
    "    left_point, right_point = 0, 0\n",
    "    \n",
    "    # case 1 : left/right가 남아있을 때 (아직 데이터가 남아있을 때)\n",
    "    while len(left) > left_point and len(right) > right_point:\n",
    "        if left[left_point] > right[right_point]:\n",
    "            merge_list.append(right[right_point])\n",
    "            right_point +=1\n",
    "        else :\n",
    "            merge_list.append(left[left_point])\n",
    "            left_point +=1\n",
    "            \n",
    "    # case2 : right만 남았을 때\n",
    "    while len(right) > right_point:\n",
    "        merge_list.append(right[right_point])\n",
    "        right_point +=1\n",
    "        \n",
    "    # case3 : left만 남았을 때\n",
    "    while len(left) > left_point:\n",
    "        merge_list.append(left[left_point])\n",
    "        left_point +=1\n",
    "        \n",
    "    return merge_list\n",
    "\n",
    "def mergesplit(data):\n",
    "    if len(data) <=1:\n",
    "        return data\n",
    "    pivot=int(len(data)/2)\n",
    "    left = mergesplit(data[:pivot])\n",
    "    right = mergesplit(data[pivot:])\n",
    "    return merge(left, right)\n",
    "\n",
    "\n",
    "import random\n",
    "\n",
    "data_list = random.sample(range(100), 10)\n",
    "mergesplit(data_list)\n"
   ]
  },
  {
   "cell_type": "markdown",
   "metadata": {},
   "source": [
    "### 알고리즘 분석\n",
    "- 몇 단계 깊이까지 만들어지는지를 depth 라고 하고 i로 놓자. 맨 위 단계는 0으로 놓자.\n",
    "- 다음 그림에서 n/$2^2$ 는 2단계 깊이라고 해보자.\n",
    "- 각 단계에 있는 하나의 노드 안의 리스트 길이는 n/$2^2$ 가 된다.\n",
    "- 각 단계에는 $2^i$ 개의 노드가 있다.\n",
    "- 따라서, 각 단계는 항상 <font size=4em>$2^i * \\frac { n }{ 2^i } = O(n)$</font>\n",
    "- 단계는 항상 $log_2 n$ 개 만큼 만들어짐, 시간 복잡도는 결국 O(log n), 2는 역시 상수이므로 삭제\n",
    "- 따라서, 단계별 시간 복잡도 O(n) * O(log n) = O(n log n) -> nlogn은 2단위로 늘어나구 갯수가 n개 곱하니까\n",
    "\n",
    "<img src=\"https://www.fun-coding.org/00_Images/mergesortcomplexity.png\" />\n"
   ]
  }
 ],
 "metadata": {
  "kernelspec": {
   "display_name": "Python 3",
   "language": "python",
   "name": "python3"
  },
  "language_info": {
   "codemirror_mode": {
    "name": "ipython",
    "version": 3
   },
   "file_extension": ".py",
   "mimetype": "text/x-python",
   "name": "python",
   "nbconvert_exporter": "python",
   "pygments_lexer": "ipython3",
   "version": "3.7.5"
  }
 },
 "nbformat": 4,
 "nbformat_minor": 2
}
