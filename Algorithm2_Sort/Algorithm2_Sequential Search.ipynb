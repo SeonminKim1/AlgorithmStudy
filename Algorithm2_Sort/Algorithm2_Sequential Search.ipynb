{
 "cells": [
  {
   "cell_type": "markdown",
   "metadata": {},
   "source": [
    "### 순차 탐색 (Sequential Search)\n",
    "* 탐색은 여러 데이터 중에서 원하는 데이터를 찾아내는 것을 의미\n",
    "* 데이터가 담겨있는 리스트를 앞에서부터 하나씩 비교해서 원하는 데이터를 찾는 방법\n",
    "\n",
    "### 알고리즘 분석\n",
    "* 최악의 경우 리스트 길이가 n일 때, n번 비교해야 함\n",
    "  - O(n)"
   ]
  },
  {
   "cell_type": "code",
   "execution_count": 10,
   "metadata": {},
   "outputs": [
    {
     "name": "stdout",
     "output_type": "stream",
     "text": [
      "[59, 62, 14, 55, 29, 57, 75, 31, 20, 54]\n"
     ]
    },
    {
     "data": {
      "text/plain": [
       "8"
      ]
     },
     "execution_count": 10,
     "metadata": {},
     "output_type": "execute_result"
    }
   ],
   "source": [
    "# 원하는 데이터 위치 리턴하는 함수\n",
    "\n",
    "def sequencial(data_list, search_data):\n",
    "    for index in range(len(data_list)):\n",
    "        if data_list[index] == search_data:\n",
    "            return index\n",
    "        \n",
    "    # 원하는 data를 못찾았을 때\n",
    "    return -1\n",
    "\n",
    "import random\n",
    "rand_data_list = list()\n",
    "for num in range(10):\n",
    "    rand_data_list.append(randint(1, 50))\n",
    "\n",
    "print(rand_data_list)\n",
    "sequencial(rand_data_list, 20)"
   ]
  }
 ],
 "metadata": {
  "kernelspec": {
   "display_name": "Python 3",
   "language": "python",
   "name": "python3"
  },
  "language_info": {
   "codemirror_mode": {
    "name": "ipython",
    "version": 3
   },
   "file_extension": ".py",
   "mimetype": "text/x-python",
   "name": "python",
   "nbconvert_exporter": "python",
   "pygments_lexer": "ipython3",
   "version": "3.7.5"
  }
 },
 "nbformat": 4,
 "nbformat_minor": 2
}
