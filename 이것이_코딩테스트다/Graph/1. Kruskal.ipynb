{
 "cells": [
  {
   "cell_type": "markdown",
   "metadata": {},
   "source": [
    "## 최소 신장 트리 (Spanning Tree)\n",
    "- 최소 신장트리로 크루스칼 알고리즘의 소수코드는 다음과 같다.\n",
    "- **정점은 그대로, 간선은 노드 수보다 1개 적으며, 원래 그래프를 연결된 상태로 만드는 그래프**\n",
    "- **간선의 수가 정점의 수보다 1개 적어 그래프에 사이클이 존재하지 않음.** \n",
    "- **그래프의 모든 노드를 연결하고 에지의 개수를 최소인 n-1개 선택하는 문제**\n",
    "- ex) 7개 도시에 도로를 낸다고 할 때 중복 없이(사이클 없이) 6개의 도로로 연결하는 방법"
   ]
  },
  {
   "cell_type": "code",
   "execution_count": 27,
   "metadata": {},
   "outputs": [],
   "source": [
    "# union-find 함수\n",
    "# 루트 노드 찾기\n",
    "def find_parent(parent, x):\n",
    "    # 루트 노드가 아니라면, 루트 노드를 찾을 떄까지 재귀적으로 호출\n",
    "    if parent[x] != x:\n",
    "        parent[x] = find_parent(parent, parent[x])\n",
    "    return parent[x]\n",
    "\n",
    "# 두 원소가 속한 집합을 합치기\n",
    "def union_parent(parent, a, b):\n",
    "    a = find_parent(parent, a)\n",
    "    b = find_parent(parent, b)\n",
    "    if a < b:\n",
    "        parent[b] = a\n",
    "    else:\n",
    "        parent[a] = b"
   ]
  },
  {
   "cell_type": "code",
   "execution_count": 29,
   "metadata": {},
   "outputs": [
    {
     "name": "stdout",
     "output_type": "stream",
     "text": [
      "[(7, 3, 4), (25, 6, 7), (13, 4, 7), (29, 1, 2), (34, 2, 6), (35, 2, 3), (23, 4, 6), (75, 1, 5), (53, 5, 6)]\n",
      "159\n"
     ]
    }
   ],
   "source": [
    "# 초기화 \n",
    "# 1-1) parent table (자기 자신으로 초기화)\n",
    "# 1-2) edges 간선 테이블 (cost, a, b) 순으로\n",
    "\n",
    "import heapq\n",
    "\n",
    "# 노드의 개수와 간선(union 연산)의 개수 입력받기\n",
    "# v, e = map(int, input().split())\n",
    "v, e = 7, 9 # 노드 및 간선 갯수\n",
    "\n",
    "# 부모 테이블 초기화\n",
    "parent=[]\n",
    "for i in range(v+1):\n",
    "    parent.append(i)\n",
    "\n",
    "# 모든 간선을 담을 리스트와 최종 비욜을 담을 변수\n",
    "edges = []\n",
    "result = 0\n",
    "\n",
    "e = [\n",
    "    [1, 2, 29], [1, 5, 75], [2, 3, 35], [2, 6, 34], [3, 4, 7], [4, 6, 23], [4, 7, 13], [5, 6, 53], [6, 7, 25]\n",
    "]\n",
    "\n",
    "# 모든 간선에 대한 정보를 입력받기\n",
    "for a,b,cost in e:\n",
    "    # 비용 순으로 정렬하기 위해서 튜플의 첫 번째 원소를 비용으로 설정\n",
    "    heapq.heappush(edges,(cost,a,b))\n",
    "\n",
    "# 실제 알고리즘\n",
    "while edges:\n",
    "    cost, a, b = heapq.heappop(edges)\n",
    "    # 사이클이 발생하지 않는 경우에만 집합에 포함\n",
    "    if find_parent(parent, a) != find_parent(parent, b):\n",
    "        union_parent(parent, a, b)\n",
    "        result +=cost\n",
    "        \n",
    "print(result)"
   ]
  }
 ],
 "metadata": {
  "kernelspec": {
   "display_name": "Python 3",
   "language": "python",
   "name": "python3"
  },
  "language_info": {
   "codemirror_mode": {
    "name": "ipython",
    "version": 3
   },
   "file_extension": ".py",
   "mimetype": "text/x-python",
   "name": "python",
   "nbconvert_exporter": "python",
   "pygments_lexer": "ipython3",
   "version": "3.7.5"
  }
 },
 "nbformat": 4,
 "nbformat_minor": 4
}
