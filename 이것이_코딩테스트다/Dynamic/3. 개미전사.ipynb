{
 "cells": [
  {
   "cell_type": "markdown",
   "metadata": {},
   "source": [
    "## 개미전사\n",
    "- 개미전사가 얻을 수 있는 식량의 최댓값\n",
    "- 한칸씩 띄어서 공격할 수 있음"
   ]
  },
  {
   "cell_type": "markdown",
   "metadata": {},
   "source": [
    "### 문제 풀이 핵심\n",
    "- max(한칸 전까지의 최댓값 vs 두칸전까지의 최댓값 + 현재 식량)\n",
    "- 계산합의 최댓값을 계속 뒤로 활용해 나가는 것!"
   ]
  },
  {
   "cell_type": "code",
   "execution_count": 3,
   "metadata": {},
   "outputs": [
    {
     "name": "stdout",
     "output_type": "stream",
     "text": [
      "1 3 1 5\n",
      "[0, 1, 3, 3, 8, 0, 0, 0, 0, 0]\n",
      "8\n"
     ]
    }
   ],
   "source": [
    "# 정수 N과 식량정보\n",
    "n = 4\n",
    "array = list(map(int, input().split())) # 1 3 1 5\n",
    "\n",
    "d = [0] * 10\n",
    "\n",
    "d[1] = array[0] # 식량 첫번째값\n",
    "d[2] = max(array[0], array[1]) # 식량 첫번째값 vs 두번째값\n",
    "\n",
    "for i in range(3, n+1):\n",
    "    d[i] = max(d[i-1], d[i-2]+array[i-1]) # max(한칸 전까지의 최댓값 vs 두칸전까지의 최댓값 + 현재 식량)\n",
    "\n",
    "# 식량 N일떄의 최댓값\n",
    "print(d)\n",
    "print(d[4])"
   ]
  }
 ],
 "metadata": {
  "kernelspec": {
   "display_name": "Python 3",
   "language": "python",
   "name": "python3"
  },
  "language_info": {
   "codemirror_mode": {
    "name": "ipython",
    "version": 3
   },
   "file_extension": ".py",
   "mimetype": "text/x-python",
   "name": "python",
   "nbconvert_exporter": "python",
   "pygments_lexer": "ipython3",
   "version": "3.7.5"
  }
 },
 "nbformat": 4,
 "nbformat_minor": 4
}
