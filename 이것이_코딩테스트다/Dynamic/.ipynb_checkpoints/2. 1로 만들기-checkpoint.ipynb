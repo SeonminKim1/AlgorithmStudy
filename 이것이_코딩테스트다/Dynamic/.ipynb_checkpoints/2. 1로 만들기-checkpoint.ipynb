{
 "cells": [
  {
   "cell_type": "markdown",
   "metadata": {},
   "source": [
    "## 1로 만들기\n",
    "- X가 5로 나누어 떨어지면 5로 나눔\n",
    "- X가 3으로 나누어 떨어지면 3으로 나눔\n",
    "- X가 2로 나누어 떨어지면 2로 나눔\n",
    "- X에서 1을 뺌\n",
    "\n",
    "연산 사용 횟수 최솟값"
   ]
  },
  {
   "cell_type": "code",
   "execution_count": 9,
   "metadata": {},
   "outputs": [
    {
     "name": "stdout",
     "output_type": "stream",
     "text": [
      "[0, 0, 1, 1, 2, 1, 2, 3, 3, 2, 2, 3, 3, 4, 4, 2, 3, 4, 3, 4, 3, 4, 4, 5, 4, 2, 3, 0, 0, 0]\n",
      "3\n"
     ]
    }
   ],
   "source": [
    "d = [0] *30 # d는 숫자들의 최소 counting 값 배열\n",
    "\n",
    "x = 26\n",
    "# 점화식\n",
    "for i in range(2, x+1):\n",
    "    \n",
    "    # 1뺴는 경우의 최솟값이고\n",
    "    d[i] = d[i-1] + 1\n",
    "\n",
    "    # 2,3,5 체크하면서 바꿔나감.\n",
    "    \n",
    "    # 현재의 수가 2로 나누어 떨어지는 경우\n",
    "    if i%2 == 0:\n",
    "        d[i] = min(d[i], d[i//2]+1) # 방금 나눈 경우 +1 더한 것 (counting 해준것)\n",
    "    \n",
    "    if i%3 == 0:\n",
    "        d[i] = min(d[i], d[i//3]+1) # \n",
    "    \n",
    "    if i%5 == 0:\n",
    "        d[i] = min(d[i], d[i//5]+1)\n",
    "        \n",
    "print(d)\n",
    "print(d[x])"
   ]
  }
 ],
 "metadata": {
  "kernelspec": {
   "display_name": "Python 3",
   "language": "python",
   "name": "python3"
  },
  "language_info": {
   "codemirror_mode": {
    "name": "ipython",
    "version": 3
   },
   "file_extension": ".py",
   "mimetype": "text/x-python",
   "name": "python",
   "nbconvert_exporter": "python",
   "pygments_lexer": "ipython3",
   "version": "3.7.5"
  }
 },
 "nbformat": 4,
 "nbformat_minor": 4
}
