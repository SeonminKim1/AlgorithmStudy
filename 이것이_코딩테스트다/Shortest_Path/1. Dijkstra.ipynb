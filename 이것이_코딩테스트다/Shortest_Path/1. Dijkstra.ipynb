{
 "cells": [
  {
   "cell_type": "markdown",
   "metadata": {},
   "source": [
    "## 다익스트라 알고리즘\n",
    "\n",
    "- 1. 기존 값 초기화\n",
    "    - 1-(1) graph 초기화\n",
    "    - 1-(2) distanes 초기화 : 각 노드로 가는 거리 / {'A': inf, 'B': inf, 'C': inf, 'D': inf, 'E': inf, 'F': inf}\n",
    "    - 1-(3) 우선순위큐 queue 초기화\n",
    "\n",
    "- 2. 다익스트라 알고리즘\n"
   ]
  },
  {
   "cell_type": "markdown",
   "metadata": {},
   "source": [
    "## 딕셔너리 comprehension"
   ]
  },
  {
   "cell_type": "code",
   "execution_count": 10,
   "metadata": {},
   "outputs": [
    {
     "data": {
      "text/plain": [
       "{'A': 0, 'B': inf, 'C': inf, 'D': inf, 'E': inf, 'F': inf}"
      ]
     },
     "execution_count": 10,
     "metadata": {},
     "output_type": "execute_result"
    }
   ],
   "source": [
    "# 방법 1\n",
    "distances = {}\n",
    "for node in graph:\n",
    "    distances[node] = float('inf')\n",
    "\n",
    "# 방법 2\n",
    "# {} 에서 반복문은 key:value 형태로 , (반점)이 찍히므로\n",
    "{node:float('inf') for node in graph}\n",
    "\n",
    "distances[start] = 0\n",
    "distances\n"
   ]
  },
  {
   "cell_type": "markdown",
   "metadata": {},
   "source": [
    "## Case 1\n",
    "- 백준 1753 번\n",
    "- 출력 0,2,3,7,INF"
   ]
  },
  {
   "cell_type": "code",
   "execution_count": 35,
   "metadata": {},
   "outputs": [
    {
     "data": {
      "text/plain": [
       "{1: {2: 2, 3: 3}, 2: {3: 4, 4: 5}, 3: {4: 6}, 4: {}, 5: {1: 1}}"
      ]
     },
     "execution_count": 35,
     "metadata": {},
     "output_type": "execute_result"
    }
   ],
   "source": [
    "import heapq\n",
    "\n",
    "# graph 1\n",
    "s = [[] for i in range(n + 1)]\n",
    "graph = {}\n",
    "\n",
    "for i in range(1, 6):\n",
    "    graph[i] = {}\n",
    "\n",
    "graph[5][1] = 1\n",
    "graph[1][2] = 2\n",
    "graph[1][3] = 3\n",
    "graph[2][3] = 4\n",
    "graph[2][4] = 5\n",
    "graph[3][4] = 6\n",
    "print(graph)\n",
    "\n",
    "# 시작노드\n",
    "start = 1\n",
    "\n",
    "### 1-(2)각 노드로 가는 거리\n",
    "distances = {}\n",
    "for node in graph:\n",
    "    distances[node] = float('inf')\n",
    "distances[start] = 0\n",
    "\n",
    "### 1-(3) 우선순위큐\n",
    "queue = []\n",
    "heapq.heappush(queue, (distances[start], start))"
   ]
  },
  {
   "cell_type": "markdown",
   "metadata": {},
   "source": [
    "## Case 2\n",
    "- 출력 : {'A': 0, 'B': 6, 'C': 1, 'D': 2, 'E': 5, 'F': 6}"
   ]
  },
  {
   "cell_type": "code",
   "execution_count": 37,
   "metadata": {},
   "outputs": [],
   "source": [
    "\n",
    "import heapq\n",
    "\n",
    "# 시작노드\n",
    "start = 'A'\n",
    "\n",
    "### 1-(1) graph 초기화\n",
    "graph = {}\n",
    "for i in ['A','B', 'C', 'D', 'E', 'F']:\n",
    "    graph[i] = {}\n",
    "    \n",
    "graph['A'] = {'B':8, 'C':1, 'D':2}\n",
    "graph['B'] = {}\n",
    "graph['C'] = {'B': 5, 'D':2}\n",
    "graph['D'] = {'E': 3, 'F':5}\n",
    "graph['E'] = {'F': 1}\n",
    "graph['F'] = {'A': 5}\n",
    "\n",
    "### 1-(2)각 노드로 가는 거리\n",
    "distances = {}\n",
    "for node in graph:\n",
    "    distances[node] = float('inf')\n",
    "distances[start] = 0\n",
    "\n",
    "\n",
    "### 1-(3) 우선순위큐\n",
    "queue = []\n",
    "heapq.heappush(queue, (distances[start], start))"
   ]
  },
  {
   "cell_type": "code",
   "execution_count": 39,
   "metadata": {},
   "outputs": [
    {
     "name": "stdout",
     "output_type": "stream",
     "text": [
      "{'A': 0, 'B': 6, 'C': 1, 'D': 2, 'E': 5, 'F': 6}\n",
      "0\n",
      "6\n",
      "1\n",
      "2\n",
      "5\n",
      "6\n"
     ]
    }
   ],
   "source": [
    "### 알고리즘\n",
    "while queue:\n",
    "    # 가장 최단 거리가 짧은 노드 꺼내기\n",
    "    now_distance, now_node = heapq.heappop(queue)\n",
    "    \n",
    "    # 현재 노드가 이미 처리된 적 있는지, 만약에 기존에 최솟값이 기록되어 있으면 다음 노드꺼내기\n",
    "    if distances[now_node] < now_distance:\n",
    "        continue\n",
    "    \n",
    "    # 현재 노드와 연결된 다른 인접 노드 확인\n",
    "    for adjacent, weight in graph[now_node].items():\n",
    "        dist = now_distance + weight\n",
    "        \n",
    "        # 최단 거리를 발견했을 때 - adjacent : 'A' \n",
    "        if dist < distances[adjacent]:\n",
    "            distances[adjacent] = dist\n",
    "            heapq.heappush(queue, (dist, adjacent))\n",
    "\n",
    "print(distances)\n",
    "    # 만약 이미 배열에 기록된 거리가 해당 고유 거리보다 작을 때 연산x\n",
    "\n",
    "for i in distances:\n",
    "    print(distances[i])"
   ]
  }
 ],
 "metadata": {
  "kernelspec": {
   "display_name": "Python 3",
   "language": "python",
   "name": "python3"
  },
  "language_info": {
   "codemirror_mode": {
    "name": "ipython",
    "version": 3
   },
   "file_extension": ".py",
   "mimetype": "text/x-python",
   "name": "python",
   "nbconvert_exporter": "python",
   "pygments_lexer": "ipython3",
   "version": "3.7.5"
  }
 },
 "nbformat": 4,
 "nbformat_minor": 4
}
