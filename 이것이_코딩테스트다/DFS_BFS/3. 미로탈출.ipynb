{
 "cells": [
  {
   "cell_type": "markdown",
   "metadata": {},
   "source": [
    "## 미로 탈출\n",
    "\n",
    "- (1,1) 부터 N,M으로 가는데 탈출하기 위한 최소 칸의 갯수\n",
    "- BFS는 한 깊이씩 전진하니까 해당 깊이를 숫자를 1씩 더하며 바꿔 나가자."
   ]
  },
  {
   "cell_type": "code",
   "execution_count": 8,
   "metadata": {},
   "outputs": [
    {
     "name": "stdout",
     "output_type": "stream",
     "text": [
      "5 6 \n",
      "101010\n",
      "111111\n",
      "000001\n",
      "111111\n",
      "111111\n"
     ]
    },
    {
     "data": {
      "text/plain": [
       "[[1, 0, 1, 0, 1, 0],\n",
       " [1, 1, 1, 1, 1, 1],\n",
       " [0, 0, 0, 0, 0, 1],\n",
       " [1, 1, 1, 1, 1, 1],\n",
       " [1, 1, 1, 1, 1, 1]]"
      ]
     },
     "execution_count": 8,
     "metadata": {},
     "output_type": "execute_result"
    }
   ],
   "source": [
    "N, M = map(int, input().split())\n",
    "\n",
    "graph_o = []\n",
    "for i in range(N):\n",
    "    graph_o.append(list(map(int, input())))\n",
    "\n",
    "graph_o"
   ]
  },
  {
   "cell_type": "code",
   "execution_count": 25,
   "metadata": {},
   "outputs": [
    {
     "data": {
      "text/plain": [
       "[[1, 0, 1, 0, 1, 0],\n",
       " [1, 1, 1, 1, 1, 1],\n",
       " [0, 0, 0, 0, 0, 1],\n",
       " [1, 1, 1, 1, 1, 1],\n",
       " [1, 1, 1, 1, 1, 1]]"
      ]
     },
     "execution_count": 25,
     "metadata": {},
     "output_type": "execute_result"
    }
   ],
   "source": [
    "import copy\n",
    "graph = copy.deepcopy(graph_o)\n",
    "graph"
   ]
  },
  {
   "cell_type": "code",
   "execution_count": 26,
   "metadata": {},
   "outputs": [
    {
     "name": "stdout",
     "output_type": "stream",
     "text": [
      "[(0, 0)]\n",
      "0 0\n",
      "[(1, 0)]\n",
      "0 1\n",
      "[(0, 0), (1, 1)]\n",
      "0 0\n",
      "[(1, 1)]\n",
      "1 1\n",
      "[(1, 2)]\n",
      "2 1\n",
      "[(0, 2), (1, 3)]\n",
      "2 0\n",
      "[(1, 3)]\n",
      "3 1\n",
      "[(1, 4)]\n",
      "4 1\n",
      "[(0, 4), (1, 5)]\n",
      "4 0\n",
      "[(1, 5)]\n",
      "5 1\n",
      "[(2, 5)]\n",
      "5 2\n",
      "[(3, 5)]\n",
      "5 3\n",
      "[(4, 5), (3, 4)]\n",
      "5 4\n",
      "[(3, 4), (4, 4)]\n",
      "4 3\n",
      "[(4, 4), (3, 3)]\n",
      "4 4\n",
      "[(3, 3), (4, 3)]\n",
      "3 3\n",
      "[(4, 3), (3, 2)]\n",
      "3 4\n",
      "[(3, 2), (4, 2)]\n",
      "2 3\n",
      "[(4, 2), (3, 1)]\n",
      "2 4\n",
      "[(3, 1), (4, 1)]\n",
      "1 3\n",
      "[(4, 1), (3, 0)]\n",
      "1 4\n",
      "[(3, 0), (4, 0)]\n",
      "0 3\n",
      "[(4, 0)]\n",
      "0 4\n"
     ]
    },
    {
     "data": {
      "text/plain": [
       "[[3, 0, 5, 0, 7, 0],\n",
       " [2, 3, 4, 5, 6, 7],\n",
       " [0, 0, 0, 0, 0, 8],\n",
       " [14, 13, 12, 11, 10, 9],\n",
       " [15, 14, 13, 12, 11, 10]]"
      ]
     },
     "execution_count": 26,
     "metadata": {},
     "output_type": "execute_result"
    }
   ],
   "source": [
    "# 방문한 경로, 방문에 필요한 것들\n",
    "visit = []\n",
    "\n",
    "# 상하좌우\n",
    "dx = [0, 0, -1, 1]\n",
    "dy = [-1, 1, 0, 0]\n",
    "\n",
    "visit.append((0,0))\n",
    "while visit:\n",
    "    print(visit)\n",
    "    now_y, now_x = visit.pop(0)\n",
    "    print(now_x, now_y)\n",
    "    # 4방향 검사해서 1이면 (now_x, now_y) + 1로 바꾸기\n",
    "    # 방문한 좌표는 visit에 넣기\n",
    "    for i in range(4):\n",
    "        new_x = now_x + dx[i]\n",
    "        new_y = now_y + dy[i]\n",
    "        # 미로 초과한 경우\n",
    "        if new_x < 0 or new_y <0 or new_x >=M or new_y >=N:\n",
    "            continue\n",
    "        \n",
    "        # 벽인 경우\n",
    "        if graph[new_y][new_x] == 0:\n",
    "            continue\n",
    "        \n",
    "        # 정상적인 경우\n",
    "        if graph[new_y][new_x] == 1:\n",
    "            graph[new_y][new_x] = graph[now_y][now_x] + 1\n",
    "            visit.append((new_y, new_x))\n",
    "            \n",
    "graph"
   ]
  }
 ],
 "metadata": {
  "kernelspec": {
   "display_name": "Python 3",
   "language": "python",
   "name": "python3"
  },
  "language_info": {
   "codemirror_mode": {
    "name": "ipython",
    "version": 3
   },
   "file_extension": ".py",
   "mimetype": "text/x-python",
   "name": "python",
   "nbconvert_exporter": "python",
   "pygments_lexer": "ipython3",
   "version": "3.7.5"
  }
 },
 "nbformat": 4,
 "nbformat_minor": 4
}
