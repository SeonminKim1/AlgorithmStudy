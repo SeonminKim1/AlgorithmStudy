{
 "cells": [
  {
   "cell_type": "code",
   "execution_count": 6,
   "metadata": {},
   "outputs": [],
   "source": [
    "# 알고리즘 복잡도 계산이 필요한 이유\n",
    "# 하나의 문제를 푸는 알고리즘은 다양할 수 있으므로, \n",
    "# 여러 알고리즘 중 어느 알고리즘이 더 좋은지를 분석하기 위해, 복잡도를 정의하고 계산함.\n",
    "\n",
    "# 시간 복잡도 : 알고리즘 실행 속도\n",
    "# 공간 복잡도 : 알고리즘이 사용하는 메모리 사이즈\n",
    "# 가장 중요한 시간 복잡도를 꼭 이해할 것\n",
    "\n",
    "# 알고리즘 성능 표기법\n",
    "# (1) 빅 오 표기법 : 알고리즘 최악의 실행 시간을 표기 / 아무리 최악이라도 이정도의 성능은 보장한다는 의미\n",
    "# (2) 오메가 표기법 : 최상의 실행시간 표기\n",
    "# (3) 세타 표기법 : 알고리즘의 평균 실행 시간 표기법\n",
    "\n",
    "# 빅오표기법\n",
    "# O(1) < O(logn) < O(n) < O(nlogn) < O(n^2) < O(2^n) < O(n!)\n",
    "# n-10, 3n+10 -> O(n)으로 통일됨\n"
   ]
  },
  {
   "cell_type": "code",
   "execution_count": 7,
   "metadata": {},
   "outputs": [
    {
     "data": {
      "text/plain": [
       "5050"
      ]
     },
     "execution_count": 7,
     "metadata": {},
     "output_type": "execute_result"
    }
   ],
   "source": [
    "# 알고리즘 1 \n",
    "# 1부터 n까지의 합을구하는 알고리즘\n",
    "\n",
    "def sum_all(n):\n",
    "    total = 0\n",
    "    for num in range(1, n + 1):\n",
    "        total += num\n",
    "    return total\n",
    "\n",
    "sum_all(100) # -> 5050 -> O(n)"
   ]
  },
  {
   "cell_type": "code",
   "execution_count": 8,
   "metadata": {},
   "outputs": [
    {
     "data": {
      "text/plain": [
       "5050"
      ]
     },
     "execution_count": 8,
     "metadata": {},
     "output_type": "execute_result"
    }
   ],
   "source": [
    "# 알고리즘 2\n",
    "# 1부터 n까지의 합을구하는 알고리즘\n",
    "\n",
    "def sum_all(n):\n",
    "    return int(n * (n + 1) / 2)\n",
    "\n",
    "sum_all(100) # -> 5050 -> O(1)"
   ]
  },
  {
   "cell_type": "code",
   "execution_count": 5,
   "metadata": {},
   "outputs": [],
   "source": [
    "## 어느 알고리즘이 성능이 좋은가?\n",
    "# 알고리즘1 vs 알고리즘2\n",
    "# O(n) vs O(1)\n",
    "\n",
    "# 이와 같이, 동일한 문제를 푸는 알고리즘은 다양할 수 있음\n",
    "# 어느 알고리즘이 보다 좋은지를 객관적으로 비교하기 위해, 빅 오 표기법등의 시간복잡도 계산법을 사용함"
   ]
  }
 ],
 "metadata": {
  "kernelspec": {
   "display_name": "Python 3",
   "language": "python",
   "name": "python3"
  },
  "language_info": {
   "codemirror_mode": {
    "name": "ipython",
    "version": 3
   },
   "file_extension": ".py",
   "mimetype": "text/x-python",
   "name": "python",
   "nbconvert_exporter": "python",
   "pygments_lexer": "ipython3",
   "version": "3.7.5"
  }
 },
 "nbformat": 4,
 "nbformat_minor": 2
}
