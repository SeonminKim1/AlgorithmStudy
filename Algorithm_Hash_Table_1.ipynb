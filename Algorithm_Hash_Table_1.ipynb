{
 "cells": [
  {
   "cell_type": "code",
   "execution_count": 1,
   "metadata": {},
   "outputs": [],
   "source": [
    "# Hash Table (해쉬 테이블)\n",
    "# Hash Table : 키(Key)에 데이터(Value)를 저장하는 데이터 구조\n",
    "# Key를 통해 바로 데이터를 받아오므로 속도가 획기적으로 빨라짐. \n",
    "# 파이썬 딕셔너리 타입이 해쉬 테이블의 예\n",
    "# 보통 배열로 미리 Hash Table 사이즈 만큼 생성 후에 사용 (공간과 탐색 시간을 맞바꾸는 기법)\n",
    "# 파이썬에서는 해쉬를 별도 구현핲 이유 없이 딕셔너리 타입 이용하면 됨.\n",
    "\n",
    "# 해쉬(Hash): 임의 값을 고정 길이로 변환하는 것\n",
    "# 해쉬 테이블(Hash Table): 키 값의 연산에 의해 직접 접근이 가능한 데이터 구조\n",
    "# 해싱 함수(Hashing Function): Key에 대해 산술 연산을 이용해 데이터 위치를 찾을 수 있는 함수\n",
    "# 해쉬 값(Hash Value) 또는 해쉬 주소(Hash Address): Key를 해싱 함수로 연산해서, 해쉬 값을 알아내고, 이를 기반으로 해쉬 테이블에서 해당 Key에 대한 데이터 위치를 일관성있게 찾을 수 있음\n",
    "# 슬롯(Slot): 한 개의 데이터를 저장할 수 있는 공간\n",
    "# 저장할 데이터에 대해 Key를 추출할 수 있는 별도 함수도 존재할 수 있음"
   ]
  },
  {
   "cell_type": "code",
   "execution_count": 10,
   "metadata": {},
   "outputs": [
    {
     "name": "stdout",
     "output_type": "stream",
     "text": [
      "65 68 84\n"
     ]
    },
    {
     "data": {
      "text/plain": [
       "'01198765432'"
      ]
     },
     "execution_count": 10,
     "metadata": {},
     "output_type": "execute_result"
    }
   ],
   "source": [
    "hash_table = list([i for i in range(10)])\n",
    "\n",
    "data1, data2, data3 = 'Andy', 'Dave', 'Trump'\n",
    "\n",
    "# ord() 아스키코드로 변환하는 것.\n",
    "print(ord(data1[0]), ord(data2[0]), ord(data3[0]))\n",
    "\n",
    "# 해쉬 함수 고안 기법으로 가장 간단한 방법이 Division (나누기를 통한 나머지 값을 사용하는 기법)\n",
    "def hash_func(key):\n",
    "    return key%5\n",
    "\n",
    "# 해쉬에 division 5 용법으로 하여 저장하기 (키, value)\n",
    "def save_data(data, value):\n",
    "    key = ord(data[0]) # 주솟값 구하기\n",
    "    hash_address = hash_func(key) # 5로 나눈 나머지 구하기 (Division 용법)\n",
    "    hash_table[hash_address] = value\n",
    "\n",
    "# 해쉬 테이블에서 주소의 데이터를 가져오는 함수\n",
    "save_data('Andy', '01012345678')\n",
    "save_data('Dave', '01198765432')\n",
    "\n",
    "# 데이터 읽어보기\n",
    "def read_data(data):\n",
    "    key = ord(data[0])\n",
    "    hash_address = hash_func(key)\n",
    "    return hash_table[hash_address]\n",
    "\n",
    "read_data('Dave')"
   ]
  },
  {
   "cell_type": "code",
   "execution_count": 9,
   "metadata": {},
   "outputs": [],
   "source": [
    "# 해쉬의 장점 : 데이터 저장/읽기 속도가 매우 빠르다 (검색 속도가 빠르다)\n",
    "# 해쉬는 키에 대한 데이터가 있는지 확인이 쉬움 (검색할 때도 그냥 키 값가지고 찾으면되고, 없으면 추가, 있으면 패스 등)\n",
    "# 해뒤의 단점 : 여러 키에 해당하는 주소가 동일한 경우 충돌을 해결하기 위한 별도 자료구조 필요\n",
    "# 저장공간이 좀더 많이 필요하다\n",
    "# 주요용도 : 검색이 많이 필요한 경우 / 저장, 삭제, 읽기가 빈번한경우 / 캐쉬(임시 데이터 만 가져오는 것) 이용시 사용 중복 확인 목적"
   ]
  },
  {
   "cell_type": "code",
   "execution_count": null,
   "metadata": {},
   "outputs": [],
   "source": []
  }
 ],
 "metadata": {
  "kernelspec": {
   "display_name": "Python 3",
   "language": "python",
   "name": "python3"
  },
  "language_info": {
   "codemirror_mode": {
    "name": "ipython",
    "version": 3
   },
   "file_extension": ".py",
   "mimetype": "text/x-python",
   "name": "python",
   "nbconvert_exporter": "python",
   "pygments_lexer": "ipython3",
   "version": "3.7.5"
  }
 },
 "nbformat": 4,
 "nbformat_minor": 2
}
