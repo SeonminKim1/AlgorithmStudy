{
 "cells": [
  {
   "cell_type": "markdown",
   "metadata": {},
   "source": [
    "## 멀쩡한 사각형\n",
    "- https://programmers.co.kr/learn/courses/30/lessons/62048\n",
    "- 참고 : https://leedakyeong.tistory.com/entry/%ED%94%84%EB%A1%9C%EA%B7%B8%EB%9E%98%EB%A8%B8%EC%8A%A4-%EB%A9%80%EC%A9%A1%ED%95%9C-%EC%82%AC%EA%B0%81%ED%98%95-in-python\n",
    "\n"
   ]
  },
  {
   "cell_type": "markdown",
   "metadata": {},
   "source": [
    "### 풀이 핵심\n",
    "- 최대공약수를 기준으로 반복됨.\n",
    "- 최대공약수 정도의 크기를 가진 사각형의 해답을 구하고 반복함\n",
    "\n",
    "- import math\n",
    "    - gcd(최대공약수), lcm (최소공배수)"
   ]
  },
  {
   "cell_type": "markdown",
   "metadata": {},
   "source": [
    "### 경우 1) 최대 공약수가 1\n",
    "    - 중간에 사각형 꼭지점을 지나지 않으므로 w+h-1\n",
    "\n",
    "### 경우 2) 최대 공약수가 1보다 크면 최대 공약수로 나눈 비율 만큼 반복되는 것.\n",
    "    - g( w/g + h/g -1) = w+h-g => (2,3 이) g만큼 반복 => (2,3)을 구하고 g만큼 반복\n",
    "    "
   ]
  },
  {
   "cell_type": "code",
   "execution_count": 9,
   "metadata": {},
   "outputs": [
    {
     "data": {
      "text/plain": [
       "80"
      ]
     },
     "execution_count": 9,
     "metadata": {},
     "output_type": "execute_result"
    }
   ],
   "source": [
    "import math\n",
    "\n",
    "def solution(w, h):\n",
    "    g = math.gcd(w,h)\n",
    "    return (w*h) - (w+h-g)\n",
    "\n",
    "solution(8, 12)"
   ]
  }
 ],
 "metadata": {
  "kernelspec": {
   "display_name": "Python 3",
   "language": "python",
   "name": "python3"
  },
  "language_info": {
   "codemirror_mode": {
    "name": "ipython",
    "version": 3
   },
   "file_extension": ".py",
   "mimetype": "text/x-python",
   "name": "python",
   "nbconvert_exporter": "python",
   "pygments_lexer": "ipython3",
   "version": "3.7.5"
  }
 },
 "nbformat": 4,
 "nbformat_minor": 4
}
