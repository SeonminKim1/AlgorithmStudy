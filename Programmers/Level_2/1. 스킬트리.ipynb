{
 "cells": [
  {
   "cell_type": "markdown",
   "metadata": {},
   "source": [
    "## 스킬트리\n",
    "- https://programmers.co.kr/learn/courses/30/lessons/49993"
   ]
  },
  {
   "cell_type": "code",
   "execution_count": 23,
   "metadata": {},
   "outputs": [
    {
     "data": {
      "text/plain": [
       "2"
      ]
     },
     "execution_count": 23,
     "metadata": {},
     "output_type": "execute_result"
    }
   ],
   "source": [
    "# cbd skill을 1,2,3으로 변환, 나머지는 replace\n",
    "# sorted했을 때와 안했을 때 차이 비교     \n",
    "\n",
    "# ex - skill : cbd / skill_tress\n",
    "def solution(skill, skill_trees):\n",
    "    error = 0 # 잘못된 error\n",
    "    for s_name in skill_trees: # cabfd\n",
    "        user_skill = []\n",
    "        for s in s_name:\n",
    "            if s in list(skill):\n",
    "                user_skill.append(s)\n",
    "                \n",
    "        for idx, n in enumerate(user_skill):\n",
    "            if skill[idx] != n:\n",
    "                error +=1\n",
    "                break        \n",
    "    return len(skill_trees) - error\n",
    "\n",
    "solution('CBD', [\"BACDE\", \"CBADF\", \"AECB\", \"BDA\"])\n",
    "        "
   ]
  }
 ],
 "metadata": {
  "kernelspec": {
   "display_name": "Python 3",
   "language": "python",
   "name": "python3"
  },
  "language_info": {
   "codemirror_mode": {
    "name": "ipython",
    "version": 3
   },
   "file_extension": ".py",
   "mimetype": "text/x-python",
   "name": "python",
   "nbconvert_exporter": "python",
   "pygments_lexer": "ipython3",
   "version": "3.7.5"
  }
 },
 "nbformat": 4,
 "nbformat_minor": 4
}
