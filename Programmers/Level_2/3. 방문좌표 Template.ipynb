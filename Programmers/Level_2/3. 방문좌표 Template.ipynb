{
 "cells": [
  {
   "cell_type": "markdown",
   "metadata": {},
   "source": [
    "## 방문 좌표 구하기 Template"
   ]
  },
  {
   "cell_type": "code",
   "execution_count": 4,
   "metadata": {},
   "outputs": [
    {
     "name": "stdout",
     "output_type": "stream",
     "text": [
      "0 1\n",
      "-1 1\n",
      "-1 2\n"
     ]
    },
    {
     "data": {
      "text/plain": [
       "(-1, 2)"
      ]
     },
     "execution_count": 4,
     "metadata": {},
     "output_type": "execute_result"
    }
   ],
   "source": [
    "def solution(dirs): # DIRS : \n",
    "    answer = 0\n",
    "    dirs = list(dirs)\n",
    "    \n",
    "    # 방향, dx, dy\n",
    "    steps = ['U', 'D', 'R', 'L']\n",
    "    dx = [0, 0, 1, -1]\n",
    "    dy = [1, -1, 0, 0]\n",
    "    now_x, now_y = 0, 0\n",
    "\n",
    "    # input 방향 순서\n",
    "    for arrow in dirs: # dirs\n",
    "        # 4방향 중 어느방향인지\n",
    "        for i in range(0, len(steps)):\n",
    "            if steps[i] == arrow:\n",
    "                new_x = now_x + dx[i]\n",
    "                new_y = now_y + dy[i]\n",
    "    \n",
    "        # 범위 벗어낫는지 체크\n",
    "        if new_x < -5 or new_y <-5 or new_x >5 or new_y >5:\n",
    "            continue\n",
    "\n",
    "        # move 반영\n",
    "        now_x, now_y = new_x, new_y\n",
    "        print(now_x, now_y)\n",
    "    return now_x, now_y\n",
    "\n",
    "solution('ULU')"
   ]
  }
 ],
 "metadata": {
  "kernelspec": {
   "display_name": "Python 3",
   "language": "python",
   "name": "python3"
  },
  "language_info": {
   "codemirror_mode": {
    "name": "ipython",
    "version": 3
   },
   "file_extension": ".py",
   "mimetype": "text/x-python",
   "name": "python",
   "nbconvert_exporter": "python",
   "pygments_lexer": "ipython3",
   "version": "3.7.5"
  }
 },
 "nbformat": 4,
 "nbformat_minor": 4
}
