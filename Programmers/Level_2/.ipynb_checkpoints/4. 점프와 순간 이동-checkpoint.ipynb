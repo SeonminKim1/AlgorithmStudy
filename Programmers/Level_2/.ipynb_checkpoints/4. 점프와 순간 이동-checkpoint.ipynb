{
 "cells": [
  {
   "cell_type": "markdown",
   "metadata": {},
   "source": [
    "## 점프와 순간 이동\n",
    "- https://programmers.co.kr/learn/courses/30/lessons/12980\n",
    "\n",
    "### 문제\n",
    "- K칸 앞으로 점프 - 건전지 -K\n",
    "- 현재까지 온 거리 x 2 - 건전지 X\n",
    "- 총 거리 N 건전지 사용량의 최솟값"
   ]
  },
  {
   "cell_type": "markdown",
   "metadata": {},
   "source": [
    "## 핵심 기법\n",
    "- n 값을 역산하기 (순간이동을 최고로 많이 써야되니까, 뒤에서부터 거꾸로 내려간ㄴ 것)\n"
   ]
  },
  {
   "cell_type": "code",
   "execution_count": 1,
   "metadata": {},
   "outputs": [
    {
     "data": {
      "text/plain": [
       "5"
      ]
     },
     "execution_count": 1,
     "metadata": {},
     "output_type": "execute_result"
    }
   ],
   "source": [
    "def solution(n):\n",
    "    ans = 0\n",
    "    \n",
    "    while n!=0:\n",
    "        n, res = divmod(n, 2)\n",
    "        if res==1:\n",
    "            ans+=1\n",
    "            \n",
    "    return ans\n",
    "\n",
    "solution(5000)"
   ]
  }
 ],
 "metadata": {
  "kernelspec": {
   "display_name": "Python 3",
   "language": "python",
   "name": "python3"
  },
  "language_info": {
   "codemirror_mode": {
    "name": "ipython",
    "version": 3
   },
   "file_extension": ".py",
   "mimetype": "text/x-python",
   "name": "python",
   "nbconvert_exporter": "python",
   "pygments_lexer": "ipython3",
   "version": "3.7.5"
  }
 },
 "nbformat": 4,
 "nbformat_minor": 4
}
