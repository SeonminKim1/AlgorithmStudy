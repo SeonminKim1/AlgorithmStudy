{
 "cells": [
  {
   "cell_type": "markdown",
   "metadata": {},
   "source": [
    "## 3. 크레인 인형뽑기\n",
    "- https://programmers.co.kr/learn/courses/30/lessons/64061"
   ]
  },
  {
   "cell_type": "code",
   "execution_count": 35,
   "metadata": {},
   "outputs": [
    {
     "data": {
      "text/plain": [
       "4"
      ]
     },
     "execution_count": 35,
     "metadata": {},
     "output_type": "execute_result"
    }
   ],
   "source": [
    "def solution(board, moves):\n",
    "    stack = [[] for i in range(len(board))]\n",
    "    \n",
    "    for i in range(len(board)):\n",
    "        for j in range(len(board[0])):\n",
    "            if board[i][j] !=0:\n",
    "                stack[j].append(board[i][j])\n",
    "                \n",
    "    for s in stack:\n",
    "        s.reverse()\n",
    "\n",
    "    answer = 0\n",
    "    out = []\n",
    "    for m in moves:\n",
    "        # 만일 맨위와 들어가는 값이 같다면 없애고 answer count\n",
    "        if stack[m-1]: \n",
    "            out.append(stack[m-1].pop())\n",
    "        if len(out)>=2:\n",
    "            if out[-1] == out[-2]:\n",
    "                out.pop()\n",
    "                out.pop()\n",
    "                answer+=2\n",
    "    return answer\n",
    "\n",
    "solution([[0,0,0,0,0],[0,0,1,0,3],[0,2,5,0,1],[4,2,4,4,2],[3,5,1,3,1]], [1,5,3,5,1,2,1,4])"
   ]
  },
  {
   "cell_type": "markdown",
   "metadata": {},
   "source": [
    "### 알게 된 것\n",
    "- list.pop() 가능\n",
    "- 텅빈 리스트 찾을때 if not x: ==> False\n",
    "    - ex) 조건 : 리스트가 있을경우~ \n",
    "        - if [3,4,5]: ~~~\n",
    "        \n",
    "- 이중 빈 배열 \n",
    "    - stack = [ [] for i in range(5) ]\n",
    "    "
   ]
  }
 ],
 "metadata": {
  "kernelspec": {
   "display_name": "Python 3",
   "language": "python",
   "name": "python3"
  },
  "language_info": {
   "codemirror_mode": {
    "name": "ipython",
    "version": 3
   },
   "file_extension": ".py",
   "mimetype": "text/x-python",
   "name": "python",
   "nbconvert_exporter": "python",
   "pygments_lexer": "ipython3",
   "version": "3.7.5"
  }
 },
 "nbformat": 4,
 "nbformat_minor": 4
}
