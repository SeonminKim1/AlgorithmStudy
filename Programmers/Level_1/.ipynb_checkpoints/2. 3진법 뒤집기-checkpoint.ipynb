{
 "cells": [
  {
   "cell_type": "markdown",
   "metadata": {},
   "source": [
    "## 3진법 뒤집기\n",
    "- https://programmers.co.kr/learn/courses/30/lessons/68935\n",
    "- 진법 구하기 n으로 나눔,, --> 나머지 사용\n",
    "- 진법은 문자열로 !!"
   ]
  },
  {
   "cell_type": "code",
   "execution_count": 17,
   "metadata": {},
   "outputs": [
    {
     "data": {
      "text/plain": [
       "7"
      ]
     },
     "execution_count": 17,
     "metadata": {},
     "output_type": "execute_result"
    }
   ],
   "source": [
    "def solution(n):\n",
    "    answer = ''\n",
    "\n",
    "    while True:\n",
    "        n, rest = divmod(n, 3)\n",
    "#        print(n, rest)\n",
    "        answer += str(rest)\n",
    "        \n",
    "        if n==0:break\n",
    "    # int 함수에서 string 넣으면 진법변환해줌\n",
    "    answer = int(answer, 3)\n",
    "    return answer\n",
    "\n",
    "solution(45)"
   ]
  }
 ],
 "metadata": {
  "kernelspec": {
   "display_name": "Python 3",
   "language": "python",
   "name": "python3"
  },
  "language_info": {
   "codemirror_mode": {
    "name": "ipython",
    "version": 3
   },
   "file_extension": ".py",
   "mimetype": "text/x-python",
   "name": "python",
   "nbconvert_exporter": "python",
   "pygments_lexer": "ipython3",
   "version": "3.7.5"
  }
 },
 "nbformat": 4,
 "nbformat_minor": 4
}
