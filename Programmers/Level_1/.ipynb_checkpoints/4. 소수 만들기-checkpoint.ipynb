{
 "cells": [
  {
   "cell_type": "markdown",
   "metadata": {},
   "source": [
    "## 소수 만들기\n",
    "- https://programmers.co.kr/learn/courses/30/lessons/12977"
   ]
  },
  {
   "cell_type": "code",
   "execution_count": 8,
   "metadata": {},
   "outputs": [
    {
     "data": {
      "text/plain": [
       "1"
      ]
     },
     "execution_count": 8,
     "metadata": {},
     "output_type": "execute_result"
    }
   ],
   "source": [
    "from itertools import combinations\n",
    "\n",
    "# 소수인지\n",
    "def isprime(n):\n",
    "    for i in range(2, n):\n",
    "        if n%i == 0:\n",
    "            return False\n",
    "    return True\n",
    "\n",
    "def solution(nums):\n",
    "    answer = 0\n",
    "    for i in combinations(nums, 3):\n",
    "        if isprime(sum(i)):\n",
    "            answer+=1\n",
    "\n",
    "    return answer\n",
    "        \n",
    "solution([1,2,3,4])"
   ]
  }
 ],
 "metadata": {
  "kernelspec": {
   "display_name": "Python 3",
   "language": "python",
   "name": "python3"
  },
  "language_info": {
   "codemirror_mode": {
    "name": "ipython",
    "version": 3
   },
   "file_extension": ".py",
   "mimetype": "text/x-python",
   "name": "python",
   "nbconvert_exporter": "python",
   "pygments_lexer": "ipython3",
   "version": "3.7.5"
  }
 },
 "nbformat": 4,
 "nbformat_minor": 4
}
