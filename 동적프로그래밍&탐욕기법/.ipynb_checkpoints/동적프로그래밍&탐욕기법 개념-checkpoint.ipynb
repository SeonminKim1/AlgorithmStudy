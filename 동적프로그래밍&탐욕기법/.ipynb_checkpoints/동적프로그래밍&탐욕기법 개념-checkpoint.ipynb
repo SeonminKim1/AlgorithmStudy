{
 "cells": [
  {
   "cell_type": "markdown",
   "metadata": {},
   "source": [
    "## 동적프로그래밍 (DP)\n",
    "- <b> 큰 문제를 한 번에 해결하기 힘들 때 작은 여러 개의 문제로 나누어서 푸는 기법</b>\n",
    "- 작은 문제들을 풀다보면 같은 문제들을 반복해서 푸는 경우가 생기며, 그 문제들을 매번 재계산하지 않고 값을 저장해두었다가 재사용하는 기법이 동적 프로그래밍\n",
    "- 계산횟수를 줄이면서 모든 방법을 검토하여 최적의 해결방법을 찾는 것 (빠른 계산속도)\n",
    "- ex) 최장 공통부분 수열 / 부분집합의 합 / 베낭 문제\n",
    "\n",
    "## Greedy (탐욕법, 탐욕 알고리즘 )\n",
    "- 매 순간마다 최적이라고 생각되는 결정을 하는 방식으로 진행하여 최종 해답에 도달\n",
    "- 단 순간의 해가 최적의 해는 아니면, Greedy의 가장 큰 장점은 계산 속도에 이씀\n",
    "- 빠른 계산 속도로 최적의 해를 찾아낼 수 있다.\n",
    "- ex) 활동선택문제 / 분할가능 베낭문제\n",
    "- 최소수의 동전으로 거스름돈 내주기"
   ]
  }
 ],
 "metadata": {
  "kernelspec": {
   "display_name": "Python 3",
   "language": "python",
   "name": "python3"
  },
  "language_info": {
   "codemirror_mode": {
    "name": "ipython",
    "version": 3
   },
   "file_extension": ".py",
   "mimetype": "text/x-python",
   "name": "python",
   "nbconvert_exporter": "python",
   "pygments_lexer": "ipython3",
   "version": "3.7.5"
  }
 },
 "nbformat": 4,
 "nbformat_minor": 4
}
